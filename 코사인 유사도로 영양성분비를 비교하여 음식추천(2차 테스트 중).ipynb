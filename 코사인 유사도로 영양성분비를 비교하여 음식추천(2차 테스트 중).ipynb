import pandas as pd
import numpy as np
from sklearn.metrics.pairwise import cosine_similarity
from sklearn.feature_extraction.text import TfidfVectorizer

# 제외할 재료 검색
def find_words_with_excluded_ingredients(food_data, excluded_ingredients):
    except_list = []
    for ingredients in food_data['RecipeIngredientParts']:
        words = ingredients.split()
        for word in words:
            for ingredient in excluded_ingredients:
                if ingredient.lower() in word.lower():
                    except_list.append(word)
    return except_list

# 검색된 재료를 데이터셋에서 제거
def filter_food_data(food_data, except_list, calories_threshold):
    filtered_food_data = food_data.copy()
    for ingredient in except_list:
        filtered_food_data = filtered_food_data[~filtered_food_data['RecipeIngredientParts'].str.contains(ingredient, case=False)]
    filtered_food_data = filtered_food_data[filtered_food_data['Calories'] < calories_threshold]
    return filtered_food_data

# 유저 키워드 리스트를 기반으로 유사도 계산
def get_recommendations(user_keywords, tfidf_vectorizer, tfidf_matrix):
    user_tfidf_matrix = tfidf_vectorizer.transform([' '.join(user_keywords)])
    cosine_sim = cosine_similarity(user_tfidf_matrix, tfidf_matrix)
    return cosine_sim[0]

# 유저의 일일 권장 칼로리 계산
def user_required_calories(user_height, user_weight, user_age, user_gender):
    if user_gender == 'Male':
        bmr = 88.362 + (13.397 * user_weight) + (4.799 * user_height) - (5.677 * user_age)
    else:
        bmr = 447.593 + (9.247 * user_weight) + (3.098 * user_height) - (4.330 * user_age)
    return bmr * 1.2

# 영양 성분 유사도 계산
def calculate_nutrient_similarity(user_nutrient_needs, food_nutrients):
    user_nutrient_vector = np.array(user_nutrient_needs).reshape(1, -1)
    nutrient_sim = cosine_similarity(user_nutrient_vector, food_nutrients)
    return nutrient_sim[0]

# 최종 추천 결과 계산
def get_final_recommendations(keywords_similarities, nutrient_similarities, food_data, user_calories_threshold):
    combined_similarities = (np.array(keywords_similarities) + np.array(nutrient_similarities)) / 2
    sim_scores = list(enumerate(combined_similarities))
    sim_scores = sorted(sim_scores, key=lambda x: x[1], reverse=True)
    food_indices = [idx[0] for idx in sim_scores if food_data.iloc[idx[0]]['Calories'] < user_calories_threshold]
    return food_data.iloc[food_indices][['Name', 'Calories']]

# 메인 실행
# 음식 데이터 로드
food = pd.read_csv('./foodData4_24.csv', dtype={'Calories': float})
food['Keywords'] = food['Keywords'].fillna('')

# 사용자1의 예제 데이터
user1 = ['Dessert', 'Pork', 'Grains', 'Oven', 'Christmas', 'Brunch']
user_calories_threshold = user_required_calories(178.9, 72.3, 24, 'Male') / 3

# 음식 데이터셋 필터링
excluded_ingredients = ['egg', 'water', 'olive oil', 'butter', 'onion', 'honey', 'garlic', 'banana']
except_list = find_words_with_excluded_ingredients(food, excluded_ingredients)
unique_except_list = list(set(except_list))
food = filter_food_data(food, unique_except_list, user_calories_threshold)

# TF-IDF 행렬 생성
tfidf = TfidfVectorizer(stop_words='english')
tfidf_matrix = tfidf.fit_transform(food['Keywords'])

# 유저 키워드 유사도 계산
keywords_similarities = get_recommendations(user1, tfidf, tfidf_matrix)

# 영양 성분 유사도 계산
food_nutrients = food[['CarbohydrateContent', 'FatContent', 'ProteinContent', 'FiberContent', 'SugarContent', 'SodiumContent', 'CholesterolContent', 'SaturatedFatContent']].values
user_nutrient_needs = [50, 20, 30, 25, 40, 1000, 300, 3500]  # 사용자 설정 필요
nutrient_similarities = calculate_nutrient_similarity(user_nutrient_needs, food_nutrients)

# 최종 추천 결과 계산
recommendations = get_final_recommendations(keywords_similarities, nutrient_similarities, food, user_calories_threshold)

print("최종 추천 음식:")
print(recommendations)
