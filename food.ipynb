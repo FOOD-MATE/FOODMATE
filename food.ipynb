{
 "cells": [
  {
   "cell_type": "markdown",
   "id": "591f6262-1caa-4a54-aa99-2947ebae1033",
   "metadata": {},
   "source": [
    "### 코사인 유사도 계산"
   ]
  },
  {
   "cell_type": "code",
   "execution_count": null,
   "id": "6115cd3b-dcd1-49d6-89b8-2f7913641d5d",
   "metadata": {},
   "outputs": [],
   "source": [
    "from sklearn.feature_extraction.text import TfidfVectorizer\n",
    "from sklearn.metrics.pairwise import cosine_similarity\n",
    "\n",
    "# 사용자가 입력한 키워드와 레시피에 사용된 재료들 간의 코사인 유사도를 계산하는 함수\n",
    "def calculate_cosine_similarity(user_keyword, recipe_ingredients):\n",
    "    # TF-IDF 벡터화\n",
    "    vectorizer = TfidfVectorizer()\n",
    "    vectors = vectorizer.fit_transform([user_keyword] + recipe_ingredients)\n",
    "    \n",
    "    # 코사인 유사도 계산\n",
    "    similarity_matrix = cosine_similarity(vectors)\n",
    "    \n",
    "    return similarity_matrix\n",
    "\n",
    "# 사용 예제\n",
    "user_keyword = \"healthy\"\n",
    "recipe_ingredients = [\"apple\", \"banana\", \"orange\"]\n",
    "similarity_matrix = calculate_cosine_similarity(user_keyword, recipe_ingredients)\n",
    "print(similarity_matrix)\n"
   ]
  },
  {
   "cell_type": "markdown",
   "id": "62e14801-4bbc-44e7-a3ac-c92f94935a6c",
   "metadata": {},
   "source": [
    "### 영양성분 비교"
   ]
  },
  {
   "cell_type": "code",
   "execution_count": 2,
   "id": "015f1b86-db38-40c8-a040-a0e74ae9847f",
   "metadata": {
    "tags": []
   },
   "outputs": [
    {
     "name": "stdout",
     "output_type": "stream",
     "text": [
      "Recipe 2 has more protein.\n"
     ]
    }
   ],
   "source": [
    "# 각 레시피의 영양 성분 데이터를 딕셔너리로 표현합니다. 이 딕셔너리는 각각의 영양 성분을 키로 가지고 해당 성분의 양을 \n",
    "# 값으로 가집니다.\n",
    "# 비교할 영양 성분들을 선택합니다. 예를 들어, 단백질, 지방, 탄수화물 등을 선택할 수 있습니다.\n",
    "# 선택한 영양 성분들을 비교하여 어느 레시피가 더 많은지, 적은지, 같은지를 확인합니다.\n",
    "\n",
    "# 사용자가 선택한 레시피들 간의 영양 성분을 비교하는 함수\n",
    "def compare_nutrients(recipe1_nutrients, recipe2_nutrients):\n",
    "    # 각 레시피의 영양 성분 비교 및 결과 반환\n",
    "    # 여기서는 간단한 비교를 예로 들겠습니다.\n",
    "    # 위의 코드는 영양 성분을 비교하는 함수에서 단백질의 양을 비교하는 부분을 나타냅니다. 각 레시피의 단백질 양을 비교하여 어느 레시피가 더 많은지, 적은지, 같은지를 확인하는 역할을 합니다.\n",
    "\n",
    "    # 첫 번째 조건문(if)은 recipe1_nutrients[\"protein\"]이 recipe2_nutrients[\"protein\"]보다 큰 경우를 체크합니다. \n",
    "    # 즉, 첫 번째 레시피의 단백질 양이 두 번째 레시피의 단백질 양보다 많을 때 이 조건이 참이 됩니다. 이 경우 \"Recipe \n",
    "    # 1 has more protein.\"을 반환하여 첫 번째 레시피의 단백질이 더 많다는 메시지를 출력합니다.\n",
    "    # 두 번째 조건문(elif)은 recipe1_nutrients[\"protein\"]이 recipe2_nutrients[\"protein\"]보다 작은 경우를 체크합니다. \n",
    "    # 즉, 첫 번째 레시피의 단백질 양이 두 번째 레시피의 단백질 양보다 적을 때 이 조건이 참이 됩니다. 이 경우 \"Recipe \n",
    "    # 2 has more protein.\"을 반환하여 두 번째 레시피의 단백질이 더 많다는 메시지를 출력합니다.\n",
    "    # 마지막 조건문(else)은 위의 두 조건문이 모두 거짓인 경우를 다룹니다. 즉, 두 레시피의 단백질 양이 서로 같은 경우에 \n",
    "    # 해당됩니다. 이 경우 \"Both recipes have the same amount of protein.\"을 반환하여 두 레시피의 단백질 양이 동일하다는\n",
    "    # 메시지를 출력합니다.\n",
    "    if recipe1_nutrients[\"protein\"] > recipe2_nutrients[\"protein\"]:\n",
    "        return \"Recipe 1 has more protein.\"\n",
    "    elif recipe1_nutrients[\"protein\"] < recipe2_nutrients[\"protein\"]:\n",
    "        return \"Recipe 2 has more protein.\"\n",
    "    else:\n",
    "        return \"Both recipes have the same amount of protein.\"\n",
    "\n",
    "# 사용 예제\n",
    "recipe1_nutrients = {\"protein\": 10, \"fat\": 5, \"carbohydrate\": 20}\n",
    "recipe2_nutrients = {\"protein\": 15, \"fat\": 3, \"carbohydrate\": 18}\n",
    "result = compare_nutrients(recipe1_nutrients, recipe2_nutrients)\n",
    "print(result)\n"
   ]
  },
  {
   "cell_type": "code",
   "execution_count": null,
   "id": "481f96fe-2ade-42c8-903a-265e7e54ab2e",
   "metadata": {},
   "outputs": [],
   "source": [
    "# 코사인 유사도 계산: 사용자가 입력한 키워드와 레시피에 사용된 재료들 간의 코사인 유사도를 계산합니다. \n",
    "# 이를 통해 사용자가 원하는 특정한 키워드와 유사한 레시피를 추천할 수 있습니다.\n",
    "# 영양성분 비교: 사용자가 선택한 레시피들 간의 영양 성분을 비교합니다. 예를 들어, 단백질, 지방, 탄수화물 등의 영양 성분을 \n",
    "# 비교하여 어떤 레시피가 더 건강하거나 사용자의 영양 섭취 목표에 더 부합하는지를 제공할 수 있습니다."
   ]
  }
 ],
 "metadata": {
  "kernelspec": {
   "display_name": "Python 3 (ipykernel)",
   "language": "python",
   "name": "python3"
  },
  "language_info": {
   "codemirror_mode": {
    "name": "ipython",
    "version": 3
   },
   "file_extension": ".py",
   "mimetype": "text/x-python",
   "name": "python",
   "nbconvert_exporter": "python",
   "pygments_lexer": "ipython3",
   "version": "3.11.5"
  }
 },
 "nbformat": 4,
 "nbformat_minor": 5
}
