{
 "cells": [
  {
   "cell_type": "markdown",
   "id": "7002a338-9c9e-4194-a383-39e56e32fb8e",
   "metadata": {},
   "source": [
    "# 칼로리 개정"
   ]
  },
  {
   "cell_type": "code",
   "execution_count": 5,
   "id": "8222217a-8c37-4772-8544-87e09715637d",
   "metadata": {},
   "outputs": [
    {
     "name": "stdin",
     "output_type": "stream",
     "text": [
      "생일 1\n"
     ]
    },
    {
     "name": "stdout",
     "output_type": "stream",
     "text": [
      "BMI: 25.3069320474676\n",
      "추정된 칼로리 요구량: 1822.4868\n",
      "user1의 유사한 음식 추천:\n",
      "                                                    Name  Calories\n",
      "142321                          Coffee Chocolate Waffles     459.6\n",
      "66308       Tina's Overnight Sausage &amp; Egg Casserole     228.8\n",
      "15217                                            \"Tomato     541.5\n",
      "6498                        Very Soft Rolled Oat Cookies     102.4\n",
      "14133                       Peggy's Foolproof  Pie Crust     380.4\n",
      "...                                                  ...       ...\n",
      "165891                Fun & Delicious Homemade Pop Tarts     576.1\n",
      "165893                     Spanish Coffee with Tia Maria      84.3\n",
      "165894                         Meg's Pumpkin Spice Bread     898.2\n",
      "165895  Roast Prime Rib au Poivre with Mixed Peppercorns    2063.4\n",
      "165896          Quick & Easy Asian Cucumber Salmon Rolls      16.1\n",
      "\n",
      "[165896 rows x 2 columns]\n",
      "\n",
      "user3의 유사한 음식 추천:\n",
      "                                                    Name  Calories\n",
      "94520                Strawberry-Banana Milkshake Muffins     144.2\n",
      "75882                              Strawberry Shortcakes     248.9\n",
      "51910                            Almond Marmalade Spread     947.9\n",
      "130963                                Easy Berry Muffins     172.6\n",
      "135246                     Cranberry &amp; Walnut Scones     141.1\n",
      "...                                                  ...       ...\n",
      "165892                  Minty Whipped Shortbread Cookies      62.5\n",
      "165893                     Spanish Coffee with Tia Maria      84.3\n",
      "165894                         Meg's Pumpkin Spice Bread     898.2\n",
      "165895  Roast Prime Rib au Poivre with Mixed Peppercorns    2063.4\n",
      "165896          Quick & Easy Asian Cucumber Salmon Rolls      16.1\n",
      "\n",
      "[165896 rows x 2 columns]\n",
      "\n",
      "user1의 필터된 음식 추천:\n",
      "                                                Name  Calories\n",
      "142321                      Coffee Chocolate Waffles     459.6\n",
      "66308   Tina's Overnight Sausage &amp; Egg Casserole     228.8\n",
      "15217                                        \"Tomato     541.5\n",
      "6498                    Very Soft Rolled Oat Cookies     102.4\n",
      "14133                   Peggy's Foolproof  Pie Crust     380.4\n",
      "...                                              ...       ...\n",
      "165885                 Masala Maggi Noodles in a Mug       7.8\n",
      "165886                       Chocolate Rum Snowballs     127.8\n",
      "165891            Fun & Delicious Homemade Pop Tarts     576.1\n",
      "165893                 Spanish Coffee with Tia Maria      84.3\n",
      "165896      Quick & Easy Asian Cucumber Salmon Rolls      16.1\n",
      "\n",
      "[136161 rows x 2 columns]\n",
      "user3의 필터된 음식 추천:\n",
      "                                             Name  Calories\n",
      "94520         Strawberry-Banana Milkshake Muffins     144.2\n",
      "135246              Cranberry &amp; Walnut Scones     141.1\n",
      "94492              Light Apple Blueberry Pancakes     123.1\n",
      "145107  Low Fat Strawberry &amp; Blackberry Crisp     118.0\n",
      "34575                              Dreamy Martini      53.6\n",
      "...                                           ...       ...\n",
      "165886                    Chocolate Rum Snowballs     127.8\n",
      "165889       Christmas Peanut Butter Kiss Cookies     119.3\n",
      "165892           Minty Whipped Shortbread Cookies      62.5\n",
      "165893              Spanish Coffee with Tia Maria      84.3\n",
      "165896   Quick & Easy Asian Cucumber Salmon Rolls      16.1\n",
      "\n",
      "[36197 rows x 2 columns]\n",
      "                                      Name  Calories\n",
      "94520  Strawberry-Banana Milkshake Muffins     144.2\n"
     ]
    }
   ],
   "source": [
    "from sklearn.feature_extraction.text import TfidfVectorizer\n",
    "from sklearn.metrics.pairwise import cosine_similarity\n",
    "import pandas as pd\n",
    "\n",
    "# 데이터셋 로드\n",
    "food = pd.read_csv('./foodData4_24.csv')\n",
    "\n",
    "# 결측값 처리(Keywords열의 데이터 중 nan값 공백으로 처리)\n",
    "# 현재 food 데이터에 일부 깨진데이터(?)가 있어서 결측값 처리해야 정상작동\n",
    "food['Keywords'] = food['Keywords'].fillna('')\n",
    "\n",
    "# TF-IDF(Term Frequency-Inverse Document Frequency)\n",
    "# 텍스트 데이터의 통계적인 가중치를 계산, 처리해주는 기능(자연어 처리)\n",
    "\n",
    "# TfidfVectorizer : 문서를 벡터 표현으로 바꿔주는 기능\n",
    "# stop_words='english' => 영어의 일반적인 불용어 삭제(and, is, the, this 등 단어와 상관없는 문자)\n",
    "tfidf = TfidfVectorizer(stop_words='english')\n",
    "\n",
    "# food의 Keywords를 단어로 구별\n",
    "# 단어로 구별된 Keywords를 TF-IDF 행렬로 생성\n",
    "tfidf_matrix = tfidf.fit_transform(food['Keywords'])\n",
    "\n",
    "# 사용자 키워드\n",
    "# 각 사용자의 키워드를 딕셔너리로 조회\n",
    "# 아래는 예시 데이터\n",
    "\n",
    "# 사용자 정보 입력\n",
    "user_info = {\n",
    "    'Birth date': '26.02.1991',\n",
    "    'Height': 171,\n",
    "    'Weight': 74,\n",
    "    'Name': 'Emmie',\n",
    "    'Email': 'ecleator2@booking.com',\n",
    "    'Gender': 'Female'\n",
    "}\n",
    "\n",
    "# 데이터 로드\n",
    "food_data = pd.read_csv('./foodData4_24.csv')\n",
    "\n",
    "# BMI 계산\n",
    "height_m = user_info['Height'] / 100\n",
    "weight_kg = user_info['Weight']\n",
    "bmi = weight_kg / (height_m ** 2)\n",
    "\n",
    "# 추정된 칼로리 요구량 계산\n",
    "if user_info['Gender'] == 'Male':\n",
    "    bmr = 88.362 + (13.397 * weight_kg) + (4.799 * height_m * 100) - (5.677 * 33)  # 테스트를 위해 임의의 나이 사용\n",
    "else:\n",
    "    bmr = 447.593 + (9.247 * weight_kg) + (3.098 * height_m * 100) - (4.330 * 33)\n",
    "\n",
    "calories_threshold = bmr * 1.2  # 활동 수준을 고려하여 칼로리 요구량을 조정\n",
    "\n",
    "users = {\n",
    "    'user1': [['Dessert', 'Pork', 'Grains', 'Oven', 'Christmas', 'Brunch'],[calories_threshold/3]],\n",
    "    'user2': ['Dessert', 'Berries', 'Fruit', 'Low Protein', 'Brunch'],\n",
    "    'user3': [['Egg Free', 'Fruit', 'Oven', 'Brunch', 'Berries'], [150]]\n",
    "}\n",
    "\n",
    "# 추천 함수 정의\n",
    "def get_recommendations(user_keywords, tfidf_matrix, food_data):\n",
    "    # 사용자 키워드를 조회할떼 공백(' ')에 조인하여 하나의 문자열로 처리\n",
    "    # 사용자 키워드에 대한 TF-IDF 행렬 생성\n",
    "    user_tfidf_matrix = tfidf.transform([' '.join(user_keywords)])\n",
    "    \n",
    "    # 사용자 키워드 행렬과 food 데이터의 키워드 행렬의 코사인 유사도 계산\n",
    "    cosine_sim = cosine_similarity(user_tfidf_matrix, tfidf_matrix)\n",
    "   \n",
    "    # 음식 추천 알고리즘\n",
    "    # 코사인 유사도 행렬에서 첫 번째 행(사용자 입력과 음식 간의 유사도)을 가져와서\n",
    "    # 각 음식과의 유사도를 인덱스와 함께 리스트로 변환 => 각 키워드가 가진 유사도를 음식과 전체 조회하여 반환\n",
    "    sim_scores = list(enumerate(cosine_sim[0]))\n",
    "   \n",
    "    # 유사도를 기준으로 리스트를 내림차순으로 정렬\n",
    "    # key=lambda x: x[1]는 리스트의 각 요소를 유사도에 대해 정렬하기 위한 키 함수\n",
    "    sim_scores = sorted(sim_scores, key=lambda x: x[1], reverse=True)\n",
    "    \n",
    "    # 유사도가 가장 높은 음식(sim_scores[0])을 제외하고 반환\n",
    "    # 가장 높은 음식을 반환하는 이유는 검색기록이 1개인 경우 그 데이터가 가장 높은 유사도를 가지게 되므로\n",
    "    sim_scores = sim_scores[1:]\n",
    "\n",
    "    # sim_scores에 저장된 음식들의 인덱스를 저장\n",
    "    # sim_scores에 저장된 형태 => (인덱스 번호, 유사도 점수)\n",
    "    food_indices = [idx[0] for idx in sim_scores]\n",
    "\n",
    "    # sim_scores에 저장된 음식에 대하여 iloc(food_indices)를 통하여 이름 조회\n",
    "    return food_data.iloc[food_indices][['Name','Calories']]\n",
    "\n",
    "###\n",
    "###  2단계. 조건 추가\n",
    "###\n",
    "\n",
    "### 사용자가 섭취 가능한 칼로리로 검색조건 추가\n",
    "\n",
    "# 사용자가 섭취 가능한 일일 칼로리를 추출\n",
    "user_calories1 = users['user1'][1][0]\n",
    "user_calories3 = users['user3'][1][0]\n",
    "\n",
    "print(\"BMI:\", bmi)\n",
    "print(\"추정된 칼로리 요구량:\", calories_threshold)\n",
    "\n",
    "# 하나의 사용자에 대한 음식 추천 실행\n",
    "keywords1 = users['user1']\n",
    "print(\"user1의 유사한 음식 추천:\")\n",
    "recommendations1 = get_recommendations(keywords1[0], tfidf_matrix, food)\n",
    "print(recommendations1)\n",
    "print()\n",
    "\n",
    "keywords3 = users['user3']\n",
    "print(\"user3의 유사한 음식 추천:\")\n",
    "recommendations3 = get_recommendations(keywords3[0], tfidf_matrix, food)\n",
    "print(recommendations3)\n",
    "print()\n",
    "\n",
    "# 추천된 음식 중에서 사용자가 섭취 가능한 일일 칼로리 이하의 음식만 필터링\n",
    "print(\"user1의 필터된 음식 추천:\")\n",
    "filtered_recommendations1 = recommendations1[recommendations1['Calories'] <= user_calories1]\n",
    "print(filtered_recommendations1)\n",
    "\n",
    "print(\"user3의 필터된 음식 추천:\")\n",
    "filtered_recommendations3 = recommendations3[recommendations3['Calories'] <= user_calories3]\n",
    "print(filtered_recommendations3)\n",
    "print(filtered_recommendations3[:1])"
   ]
  },
  {
   "cell_type": "code",
   "execution_count": 18,
   "id": "9ea9b992-52bd-4d74-8c64-4878148ee7f0",
   "metadata": {},
   "outputs": [
    {
     "data": {
      "text/plain": [
       "142321    459.6\n",
       "66308     228.8\n",
       "Name: Calories, dtype: float64"
      ]
     },
     "execution_count": 18,
     "metadata": {},
     "output_type": "execute_result"
    }
   ],
   "source": [
    "recommendations[:2]['Calories']"
   ]
  },
  {
   "cell_type": "code",
   "execution_count": 92,
   "id": "a814f702-2858-4374-bbce-ba4bc8ba534e",
   "metadata": {},
   "outputs": [
    {
     "data": {
      "text/plain": [
       "(10, 2)"
      ]
     },
     "execution_count": 92,
     "metadata": {},
     "output_type": "execute_result"
    }
   ],
   "source": [
    "filtered_recommendations.shape"
   ]
  },
  {
   "cell_type": "code",
   "execution_count": 84,
   "id": "33695180-ad54-4586-89c5-6518ddc1b564",
   "metadata": {},
   "outputs": [
    {
     "data": {
      "text/plain": [
       "1000"
      ]
     },
     "execution_count": 84,
     "metadata": {},
     "output_type": "execute_result"
    }
   ],
   "source": [
    "user_calories = users['user1'][1][0]\n",
    "user_calories"
   ]
  },
  {
   "cell_type": "code",
   "execution_count": 49,
   "id": "91af0d44-00d3-4612-a65a-730618b888d9",
   "metadata": {},
   "outputs": [],
   "source": [
    "import numpy as np"
   ]
  },
  {
   "cell_type": "code",
   "execution_count": 68,
   "id": "8535f86f-5090-4fc0-a031-e63ed13ae2cc",
   "metadata": {},
   "outputs": [
    {
     "data": {
      "text/plain": [
       "[400]"
      ]
     },
     "execution_count": 68,
     "metadata": {},
     "output_type": "execute_result"
    }
   ],
   "source": [
    "users['user1'][1]"
   ]
  },
  {
   "cell_type": "code",
   "execution_count": 71,
   "id": "640939f4-065a-4841-baeb-9e621b59f217",
   "metadata": {},
   "outputs": [],
   "source": [
    "user_calories = users['user1'][1][0]"
   ]
  },
  {
   "cell_type": "code",
   "execution_count": 72,
   "id": "6990f962-c69d-42b1-a2b6-96d993ed63be",
   "metadata": {},
   "outputs": [
    {
     "data": {
      "text/plain": [
       "400"
      ]
     },
     "execution_count": 72,
     "metadata": {},
     "output_type": "execute_result"
    }
   ],
   "source": [
    "user_calories"
   ]
  },
  {
   "cell_type": "code",
   "execution_count": 88,
   "id": "2eeaaf78-0913-47a9-a82b-6fe64afe8769",
   "metadata": {},
   "outputs": [
    {
     "data": {
      "text/plain": [
       "0         Dessert, Low Protein, Low Cholesterol, Healthy...\n",
       "1         Chicken Thigh & Leg, Chicken, Poultry, Meat, A...\n",
       "2         Low Protein, Low Cholesterol, Healthy, Summer,...\n",
       "3         Beans, Vegetable, Low Cholesterol, Weeknight, ...\n",
       "4         Low Protein, Vegan, Low Cholesterol, Healthy, ...\n",
       "                                ...                        \n",
       "165892    Dessert, Cookie & Brownie, < 30 Mins, For Larg...\n",
       "165893                        < 15 Mins, Easy, From Scratch\n",
       "165894                              Breads, < 4 Hours, Easy\n",
       "165895                  High Protein, High In..., < 4 Hours\n",
       "165896                                      < 15 Mins, Easy\n",
       "Name: Keywords, Length: 165897, dtype: object"
      ]
     },
     "execution_count": 88,
     "metadata": {},
     "output_type": "execute_result"
    }
   ],
   "source": [
    "food['Keywords']"
   ]
  },
  {
   "cell_type": "code",
   "execution_count": 127,
   "id": "bc707274-c95d-4dc2-b188-0f24062b5427",
   "metadata": {
    "scrolled": true
   },
   "outputs": [],
   "source": [
    "recommend = recommendations3['Name'][:]\n",
    "recommend_index = food[food['Name'].isin(recommend)].index\n",
    "keywords_of_recommendations = food['Keywords'].iloc[recommend_index]"
   ]
  },
  {
   "cell_type": "code",
   "execution_count": 133,
   "id": "d89d6b7c-46bb-49fd-89a8-395f11c9b257",
   "metadata": {},
   "outputs": [
    {
     "name": "stdout",
     "output_type": "stream",
     "text": [
      "0         Dessert, Low Protein, Low Cholesterol, Healthy...\n",
      "1         Chicken Thigh & Leg, Chicken, Poultry, Meat, A...\n",
      "2         Low Protein, Low Cholesterol, Healthy, Summer,...\n",
      "3         Beans, Vegetable, Low Cholesterol, Weeknight, ...\n",
      "4         Low Protein, Vegan, Low Cholesterol, Healthy, ...\n",
      "                                ...                        \n",
      "165892    Dessert, Cookie & Brownie, < 30 Mins, For Larg...\n",
      "165893                        < 15 Mins, Easy, From Scratch\n",
      "165894                              Breads, < 4 Hours, Easy\n",
      "165895                  High Protein, High In..., < 4 Hours\n",
      "165896                                      < 15 Mins, Easy\n",
      "Name: Keywords, Length: 165896, dtype: object\n"
     ]
    }
   ],
   "source": [
    "print(keywords_of_recommendations)"
   ]
  },
  {
   "cell_type": "code",
   "execution_count": null,
   "id": "c58a584e-8159-4e86-8ed4-c17edd77ed59",
   "metadata": {},
   "outputs": [],
   "source": []
  }
 ],
 "metadata": {
  "kernelspec": {
   "display_name": "Python 3 (ipykernel)",
   "language": "python",
   "name": "python3"
  },
  "language_info": {
   "codemirror_mode": {
    "name": "ipython",
    "version": 3
   },
   "file_extension": ".py",
   "mimetype": "text/x-python",
   "name": "python",
   "nbconvert_exporter": "python",
   "pygments_lexer": "ipython3",
   "version": "3.11.7"
  }
 },
 "nbformat": 4,
 "nbformat_minor": 5
}
