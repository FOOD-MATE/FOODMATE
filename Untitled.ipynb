{
 "cells": [
  {
   "cell_type": "code",
   "execution_count": 1,
   "id": "f9bb4056-78ba-44e8-9c0b-5355e4ac1cc0",
   "metadata": {
    "tags": []
   },
   "outputs": [],
   "source": [
    "import pandas as pd\n",
    "\n",
    "food = pd.read_csv(\"FOOD_RECIPE_DATA_TABLE_3.csv\")\n",
    "\n",
    "food.to_pickle(\"food.pkl\")"
   ]
  },
  {
   "cell_type": "code",
   "execution_count": 8,
   "id": "e7cbeabe-bcc7-4b97-8860-479020eff0e3",
   "metadata": {
    "tags": []
   },
   "outputs": [
    {
     "name": "stdout",
     "output_type": "stream",
     "text": [
      "<class 'pandas.core.frame.DataFrame'>\n",
      "Index: 165095 entries, 0 to 165896\n",
      "Data columns (total 16 columns):\n",
      " #   Column                 Non-Null Count   Dtype  \n",
      "---  ------                 --------------   -----  \n",
      " 0   Unnamed: 0             165095 non-null  int64  \n",
      " 1   Name                   165095 non-null  object \n",
      " 2   Images                 165094 non-null  object \n",
      " 3   RecipeCategory         164913 non-null  object \n",
      " 4   Keywords               160713 non-null  object \n",
      " 5   RecipeIngredientParts  165095 non-null  object \n",
      " 6   Calories               165095 non-null  float64\n",
      " 7   FatContent             165095 non-null  float64\n",
      " 8   SaturatedFatContent    165095 non-null  float64\n",
      " 9   CholesterolContent     165095 non-null  float64\n",
      " 10  SodiumContent          165095 non-null  float64\n",
      " 11  CarbohydrateContent    165095 non-null  float64\n",
      " 12  FiberContent           165095 non-null  float64\n",
      " 13  SugarContent           165095 non-null  float64\n",
      " 14  ProteinContent         165095 non-null  float64\n",
      " 15  RecipeInstructions     165095 non-null  object \n",
      "dtypes: float64(9), int64(1), object(6)\n",
      "memory usage: 21.4+ MB\n"
     ]
    }
   ],
   "source": [
    "food = food[food['RecipeIngredientParts'] != 'character(0']\n",
    "food.info()"
   ]
  },
  {
   "cell_type": "code",
   "execution_count": 9,
   "id": "86d1dc8e-370f-4f82-90bf-2266d28eefcf",
   "metadata": {
    "tags": []
   },
   "outputs": [
    {
     "name": "stdout",
     "output_type": "stream",
     "text": [
      "<class 'pandas.core.frame.DataFrame'>\n",
      "Index: 165095 entries, 0 to 165896\n",
      "Data columns (total 16 columns):\n",
      " #   Column                 Non-Null Count   Dtype  \n",
      "---  ------                 --------------   -----  \n",
      " 0   Unnamed: 0             165095 non-null  int64  \n",
      " 1   Name                   165095 non-null  object \n",
      " 2   Images                 165094 non-null  object \n",
      " 3   RecipeCategory         164913 non-null  object \n",
      " 4   Keywords               160713 non-null  object \n",
      " 5   RecipeIngredientParts  165095 non-null  object \n",
      " 6   Calories               165095 non-null  float64\n",
      " 7   FatContent             165095 non-null  float64\n",
      " 8   SaturatedFatContent    165095 non-null  float64\n",
      " 9   CholesterolContent     165095 non-null  float64\n",
      " 10  SodiumContent          165095 non-null  float64\n",
      " 11  CarbohydrateContent    165095 non-null  float64\n",
      " 12  FiberContent           165095 non-null  float64\n",
      " 13  SugarContent           165095 non-null  float64\n",
      " 14  ProteinContent         165095 non-null  float64\n",
      " 15  RecipeInstructions     165095 non-null  object \n",
      "dtypes: float64(9), int64(1), object(6)\n",
      "memory usage: 21.4+ MB\n"
     ]
    }
   ],
   "source": [
    "food = food[food['Images'] != 'character(0']\n",
    "\n",
    "food.info()"
   ]
  },
  {
   "cell_type": "code",
   "execution_count": 10,
   "id": "9e1b160e-c5c3-4cc9-970b-fc46de4c9bd3",
   "metadata": {
    "tags": []
   },
   "outputs": [
    {
     "name": "stdout",
     "output_type": "stream",
     "text": [
      "<class 'pandas.core.frame.DataFrame'>\n",
      "Index: 165095 entries, 0 to 165896\n",
      "Data columns (total 16 columns):\n",
      " #   Column                 Non-Null Count   Dtype  \n",
      "---  ------                 --------------   -----  \n",
      " 0   Unnamed: 0             165095 non-null  int64  \n",
      " 1   Name                   165095 non-null  object \n",
      " 2   Images                 165094 non-null  object \n",
      " 3   RecipeCategory         164913 non-null  object \n",
      " 4   Keywords               160713 non-null  object \n",
      " 5   RecipeIngredientParts  165095 non-null  object \n",
      " 6   Calories               165095 non-null  float64\n",
      " 7   FatContent             165095 non-null  float64\n",
      " 8   SaturatedFatContent    165095 non-null  float64\n",
      " 9   CholesterolContent     165095 non-null  float64\n",
      " 10  SodiumContent          165095 non-null  float64\n",
      " 11  CarbohydrateContent    165095 non-null  float64\n",
      " 12  FiberContent           165095 non-null  float64\n",
      " 13  SugarContent           165095 non-null  float64\n",
      " 14  ProteinContent         165095 non-null  float64\n",
      " 15  RecipeInstructions     165095 non-null  object \n",
      "dtypes: float64(9), int64(1), object(6)\n",
      "memory usage: 21.4+ MB\n"
     ]
    }
   ],
   "source": [
    "food.dropna()\n",
    "\n",
    "food.info()"
   ]
  },
  {
   "cell_type": "code",
   "execution_count": 11,
   "id": "6d1666ab-e1db-420b-ad28-24affef834db",
   "metadata": {
    "tags": []
   },
   "outputs": [
    {
     "name": "stdout",
     "output_type": "stream",
     "text": [
      "<class 'pandas.core.frame.DataFrame'>\n",
      "Index: 160123 entries, 0 to 165896\n",
      "Data columns (total 16 columns):\n",
      " #   Column                 Non-Null Count   Dtype  \n",
      "---  ------                 --------------   -----  \n",
      " 0   Unnamed: 0             160123 non-null  int64  \n",
      " 1   Name                   160123 non-null  object \n",
      " 2   Images                 160122 non-null  object \n",
      " 3   RecipeCategory         159946 non-null  object \n",
      " 4   Keywords               155856 non-null  object \n",
      " 5   RecipeIngredientParts  160123 non-null  object \n",
      " 6   Calories               160123 non-null  float64\n",
      " 7   FatContent             160123 non-null  float64\n",
      " 8   SaturatedFatContent    160123 non-null  float64\n",
      " 9   CholesterolContent     160123 non-null  float64\n",
      " 10  SodiumContent          160123 non-null  float64\n",
      " 11  CarbohydrateContent    160123 non-null  float64\n",
      " 12  FiberContent           160123 non-null  float64\n",
      " 13  SugarContent           160123 non-null  float64\n",
      " 14  ProteinContent         160123 non-null  float64\n",
      " 15  RecipeInstructions     160123 non-null  object \n",
      "dtypes: float64(9), int64(1), object(6)\n",
      "memory usage: 20.8+ MB\n"
     ]
    }
   ],
   "source": [
    "food = food[food['Calories'] <= 1700]\n",
    "\n",
    "food.info()"
   ]
  },
  {
   "cell_type": "code",
   "execution_count": 12,
   "id": "47bb7ab3-ad45-4e03-baa8-2cf8b7a9930d",
   "metadata": {
    "tags": []
   },
   "outputs": [
    {
     "name": "stdout",
     "output_type": "stream",
     "text": [
      "<class 'pandas.core.frame.DataFrame'>\n",
      "Index: 160123 entries, 0 to 165896\n",
      "Data columns (total 16 columns):\n",
      " #   Column                 Non-Null Count   Dtype  \n",
      "---  ------                 --------------   -----  \n",
      " 0   Unnamed: 0             160123 non-null  int64  \n",
      " 1   Name                   160123 non-null  object \n",
      " 2   Images                 160122 non-null  object \n",
      " 3   RecipeCategory         159946 non-null  object \n",
      " 4   Keywords               155856 non-null  object \n",
      " 5   RecipeIngredientParts  160123 non-null  object \n",
      " 6   Calories               160123 non-null  float64\n",
      " 7   FatContent             160123 non-null  float64\n",
      " 8   SaturatedFatContent    160123 non-null  float64\n",
      " 9   CholesterolContent     160123 non-null  float64\n",
      " 10  SodiumContent          160123 non-null  float64\n",
      " 11  CarbohydrateContent    160123 non-null  float64\n",
      " 12  FiberContent           160123 non-null  float64\n",
      " 13  SugarContent           160123 non-null  float64\n",
      " 14  ProteinContent         160123 non-null  float64\n",
      " 15  RecipeInstructions     160123 non-null  object \n",
      "dtypes: float64(9), int64(1), object(6)\n",
      "memory usage: 20.8+ MB\n"
     ]
    }
   ],
   "source": [
    "food = food[food['FatContent'] < 200]\n",
    "\n",
    "food.info()"
   ]
  },
  {
   "cell_type": "code",
   "execution_count": 15,
   "id": "e2acad79-c4f7-4a4d-8a0a-5bd743ce9336",
   "metadata": {
    "tags": []
   },
   "outputs": [
    {
     "name": "stdout",
     "output_type": "stream",
     "text": [
      "<class 'pandas.core.frame.DataFrame'>\n",
      "Index: 155856 entries, 0 to 165896\n",
      "Data columns (total 16 columns):\n",
      " #   Column                 Non-Null Count   Dtype  \n",
      "---  ------                 --------------   -----  \n",
      " 0   Unnamed: 0             155856 non-null  int64  \n",
      " 1   Name                   155856 non-null  object \n",
      " 2   Images                 155855 non-null  object \n",
      " 3   RecipeCategory         155856 non-null  object \n",
      " 4   Keywords               155856 non-null  object \n",
      " 5   RecipeIngredientParts  155856 non-null  object \n",
      " 6   Calories               155856 non-null  float64\n",
      " 7   FatContent             155856 non-null  float64\n",
      " 8   SaturatedFatContent    155856 non-null  float64\n",
      " 9   CholesterolContent     155856 non-null  float64\n",
      " 10  SodiumContent          155856 non-null  float64\n",
      " 11  CarbohydrateContent    155856 non-null  float64\n",
      " 12  FiberContent           155856 non-null  float64\n",
      " 13  SugarContent           155856 non-null  float64\n",
      " 14  ProteinContent         155856 non-null  float64\n",
      " 15  RecipeInstructions     155856 non-null  object \n",
      "dtypes: float64(9), int64(1), object(6)\n",
      "memory usage: 20.2+ MB\n"
     ]
    }
   ],
   "source": [
    "food = food.dropna(subset=['Keywords'])\n",
    "\n",
    "food.info()"
   ]
  },
  {
   "cell_type": "code",
   "execution_count": 16,
   "id": "06e184d3-d17d-46fd-b3ca-d4e6a3ef7053",
   "metadata": {
    "tags": []
   },
   "outputs": [
    {
     "name": "stdout",
     "output_type": "stream",
     "text": [
      "<class 'pandas.core.frame.DataFrame'>\n",
      "Index: 155849 entries, 0 to 165896\n",
      "Data columns (total 16 columns):\n",
      " #   Column                 Non-Null Count   Dtype  \n",
      "---  ------                 --------------   -----  \n",
      " 0   Unnamed: 0             155849 non-null  int64  \n",
      " 1   Name                   155849 non-null  object \n",
      " 2   Images                 155848 non-null  object \n",
      " 3   RecipeCategory         155849 non-null  object \n",
      " 4   Keywords               155849 non-null  object \n",
      " 5   RecipeIngredientParts  155849 non-null  object \n",
      " 6   Calories               155849 non-null  float64\n",
      " 7   FatContent             155849 non-null  float64\n",
      " 8   SaturatedFatContent    155849 non-null  float64\n",
      " 9   CholesterolContent     155849 non-null  float64\n",
      " 10  SodiumContent          155849 non-null  float64\n",
      " 11  CarbohydrateContent    155849 non-null  float64\n",
      " 12  FiberContent           155849 non-null  float64\n",
      " 13  SugarContent           155849 non-null  float64\n",
      " 14  ProteinContent         155849 non-null  float64\n",
      " 15  RecipeInstructions     155849 non-null  object \n",
      "dtypes: float64(9), int64(1), object(6)\n",
      "memory usage: 20.2+ MB\n"
     ]
    }
   ],
   "source": [
    "food = food[food['CarbohydrateContent'] <= 425]\n",
    "\n",
    "food.info()"
   ]
  },
  {
   "cell_type": "code",
   "execution_count": 17,
   "id": "3fedb233-0bf8-4238-b3a3-7eaa3d726a15",
   "metadata": {
    "tags": []
   },
   "outputs": [
    {
     "name": "stdout",
     "output_type": "stream",
     "text": [
      "<class 'pandas.core.frame.DataFrame'>\n",
      "Index: 155849 entries, 0 to 165896\n",
      "Data columns (total 16 columns):\n",
      " #   Column                 Non-Null Count   Dtype  \n",
      "---  ------                 --------------   -----  \n",
      " 0   Unnamed: 0             155849 non-null  int64  \n",
      " 1   Name                   155849 non-null  object \n",
      " 2   Images                 155848 non-null  object \n",
      " 3   RecipeCategory         155849 non-null  object \n",
      " 4   Keywords               155849 non-null  object \n",
      " 5   RecipeIngredientParts  155849 non-null  object \n",
      " 6   Calories               155849 non-null  float64\n",
      " 7   FatContent             155849 non-null  float64\n",
      " 8   SaturatedFatContent    155849 non-null  float64\n",
      " 9   CholesterolContent     155849 non-null  float64\n",
      " 10  SodiumContent          155849 non-null  float64\n",
      " 11  CarbohydrateContent    155849 non-null  float64\n",
      " 12  FiberContent           155849 non-null  float64\n",
      " 13  SugarContent           155849 non-null  float64\n",
      " 14  ProteinContent         155849 non-null  float64\n",
      " 15  RecipeInstructions     155849 non-null  object \n",
      "dtypes: float64(9), int64(1), object(6)\n",
      "memory usage: 20.2+ MB\n"
     ]
    }
   ],
   "source": [
    "food = food[food['ProteinContent'] <= 425]\n",
    "\n",
    "food.info()"
   ]
  },
  {
   "cell_type": "code",
   "execution_count": 19,
   "id": "c3e7a92d-4832-47e5-bb78-d4cbb66f9c52",
   "metadata": {
    "tags": []
   },
   "outputs": [],
   "source": [
    "food.to_csv(\"foodDataSave.csv\", index=False)"
   ]
  },
  {
   "cell_type": "code",
   "execution_count": 20,
   "id": "bb17b128-d6ad-4196-a4c8-51782b9a232d",
   "metadata": {
    "tags": []
   },
   "outputs": [],
   "source": [
    "food = pd.read_csv(\"FOOD_RECIPE_DATA_TABLE.csv\")"
   ]
  },
  {
   "cell_type": "code",
   "execution_count": 21,
   "id": "d2845a3c-6efa-4bf4-a4cb-697ccc4cc2c4",
   "metadata": {
    "tags": []
   },
   "outputs": [
    {
     "name": "stdout",
     "output_type": "stream",
     "text": [
      "<class 'pandas.core.frame.DataFrame'>\n",
      "RangeIndex: 68033 entries, 0 to 68032\n",
      "Data columns (total 16 columns):\n",
      " #   Column                 Non-Null Count  Dtype  \n",
      "---  ------                 --------------  -----  \n",
      " 0   IDX                    68033 non-null  int64  \n",
      " 1   CALORIES               68033 non-null  float64\n",
      " 2   CARBOHYDRATECONTENT    68033 non-null  float64\n",
      " 3   CHOLESTEROLCONTENT     68033 non-null  float64\n",
      " 4   FATCONTENT             68033 non-null  float64\n",
      " 5   FIBERCONTENT           68033 non-null  float64\n",
      " 6   IMAGES                 68032 non-null  object \n",
      " 7   KEYWORDS               68033 non-null  object \n",
      " 8   NAME                   68033 non-null  object \n",
      " 9   PROTEINCONTENT         68033 non-null  float64\n",
      " 10  RECIPECATEGORY         68033 non-null  object \n",
      " 11  RECIPEINGREDIENTPARTS  68033 non-null  object \n",
      " 12  RECIPEINSTRUCTIONS     68033 non-null  object \n",
      " 13  SATURATEDFATCONTENT    68033 non-null  float64\n",
      " 14  SODIUMCONTENT          68033 non-null  float64\n",
      " 15  SUGARCONTENT           68033 non-null  float64\n",
      "dtypes: float64(9), int64(1), object(6)\n",
      "memory usage: 8.3+ MB\n"
     ]
    }
   ],
   "source": [
    "food.info()"
   ]
  },
  {
   "cell_type": "code",
   "execution_count": 22,
   "id": "9d584047-c948-4e7f-be50-9894eecc19d6",
   "metadata": {
    "tags": []
   },
   "outputs": [],
   "source": [
    "food.to_pickle(\"food.pkl\")"
   ]
  },
  {
   "cell_type": "code",
   "execution_count": 23,
   "id": "42d39643-b0be-46d5-9287-190e72d6c3f9",
   "metadata": {
    "tags": []
   },
   "outputs": [
    {
     "name": "stdout",
     "output_type": "stream",
     "text": [
      "<class 'pandas.core.frame.DataFrame'>\n",
      "RangeIndex: 68033 entries, 0 to 68032\n",
      "Data columns (total 16 columns):\n",
      " #   Column                 Non-Null Count  Dtype  \n",
      "---  ------                 --------------  -----  \n",
      " 0   IDX                    68033 non-null  int64  \n",
      " 1   CALORIES               68033 non-null  float64\n",
      " 2   CARBOHYDRATECONTENT    68033 non-null  float64\n",
      " 3   CHOLESTEROLCONTENT     68033 non-null  float64\n",
      " 4   FATCONTENT             68033 non-null  float64\n",
      " 5   FIBERCONTENT           68033 non-null  float64\n",
      " 6   IMAGES                 68032 non-null  object \n",
      " 7   KEYWORDS               68033 non-null  object \n",
      " 8   NAME                   68033 non-null  object \n",
      " 9   PROTEINCONTENT         68033 non-null  float64\n",
      " 10  RECIPECATEGORY         68033 non-null  object \n",
      " 11  RECIPEINGREDIENTPARTS  68033 non-null  object \n",
      " 12  RECIPEINSTRUCTIONS     68033 non-null  object \n",
      " 13  SATURATEDFATCONTENT    68033 non-null  float64\n",
      " 14  SODIUMCONTENT          68033 non-null  float64\n",
      " 15  SUGARCONTENT           68033 non-null  float64\n",
      "dtypes: float64(9), int64(1), object(6)\n",
      "memory usage: 8.3+ MB\n"
     ]
    }
   ],
   "source": [
    "food.info()"
   ]
  },
  {
   "cell_type": "code",
   "execution_count": 24,
   "id": "3b01e8fd-9db9-4782-abe1-5d5c01d4ba10",
   "metadata": {
    "tags": []
   },
   "outputs": [
    {
     "name": "stdout",
     "output_type": "stream",
     "text": [
      "<class 'pandas.core.frame.DataFrame'>\n",
      "Index: 67578 entries, 0 to 68032\n",
      "Data columns (total 16 columns):\n",
      " #   Column                 Non-Null Count  Dtype  \n",
      "---  ------                 --------------  -----  \n",
      " 0   IDX                    67578 non-null  int64  \n",
      " 1   CALORIES               67578 non-null  float64\n",
      " 2   CARBOHYDRATECONTENT    67578 non-null  float64\n",
      " 3   CHOLESTEROLCONTENT     67578 non-null  float64\n",
      " 4   FATCONTENT             67578 non-null  float64\n",
      " 5   FIBERCONTENT           67578 non-null  float64\n",
      " 6   IMAGES                 67577 non-null  object \n",
      " 7   KEYWORDS               67578 non-null  object \n",
      " 8   NAME                   67578 non-null  object \n",
      " 9   PROTEINCONTENT         67578 non-null  float64\n",
      " 10  RECIPECATEGORY         67578 non-null  object \n",
      " 11  RECIPEINGREDIENTPARTS  67578 non-null  object \n",
      " 12  RECIPEINSTRUCTIONS     67578 non-null  object \n",
      " 13  SATURATEDFATCONTENT    67578 non-null  float64\n",
      " 14  SODIUMCONTENT          67578 non-null  float64\n",
      " 15  SUGARCONTENT           67578 non-null  float64\n",
      "dtypes: float64(9), int64(1), object(6)\n",
      "memory usage: 8.8+ MB\n"
     ]
    }
   ],
   "source": [
    "food = food[food['CALORIES'] != 0]\n",
    "\n",
    "food.info()"
   ]
  },
  {
   "cell_type": "code",
   "execution_count": 26,
   "id": "dc3589cd-8a05-4103-ac22-7b4265e9a397",
   "metadata": {
    "tags": []
   },
   "outputs": [],
   "source": [
    "food.to_csv(\"foodDataSave.csv\")"
   ]
  },
  {
   "cell_type": "code",
   "execution_count": 27,
   "id": "2b6eb03d-e348-42a0-91a7-a092ce95e46a",
   "metadata": {
    "tags": []
   },
   "outputs": [
    {
     "name": "stdout",
     "output_type": "stream",
     "text": [
      "<class 'pandas.core.frame.DataFrame'>\n",
      "RangeIndex: 67578 entries, 0 to 67577\n",
      "Data columns (total 16 columns):\n",
      " #   Column                 Non-Null Count  Dtype  \n",
      "---  ------                 --------------  -----  \n",
      " 0   IDX                    67578 non-null  int64  \n",
      " 1   CALORIES               67578 non-null  float64\n",
      " 2   CARBOHYDRATECONTENT    67578 non-null  float64\n",
      " 3   CHOLESTEROLCONTENT     67578 non-null  float64\n",
      " 4   FATCONTENT             67578 non-null  float64\n",
      " 5   FIBERCONTENT           67578 non-null  float64\n",
      " 6   IMAGES                 67577 non-null  object \n",
      " 7   KEYWORDS               67578 non-null  object \n",
      " 8   NAME                   67578 non-null  object \n",
      " 9   PROTEINCONTENT         67578 non-null  float64\n",
      " 10  RECIPECATEGORY         67578 non-null  object \n",
      " 11  RECIPEINGREDIENTPARTS  67578 non-null  object \n",
      " 12  RECIPEINSTRUCTIONS     67578 non-null  object \n",
      " 13  SATURATEDFATCONTENT    67578 non-null  float64\n",
      " 14  SODIUMCONTENT          67578 non-null  float64\n",
      " 15  SUGARCONTENT           67578 non-null  float64\n",
      "dtypes: float64(9), int64(1), object(6)\n",
      "memory usage: 8.2+ MB\n"
     ]
    }
   ],
   "source": [
    "food = pd.read_csv(\"FOOD_RECIPE_DATA_TABLE_1.csv\")\n",
    "\n",
    "food.info()"
   ]
  },
  {
   "cell_type": "code",
   "execution_count": 28,
   "id": "f44569fe-3b30-4fe2-ace9-869f23865e06",
   "metadata": {
    "tags": []
   },
   "outputs": [],
   "source": [
    "food.to_pickle(\"food.pkl\")"
   ]
  },
  {
   "cell_type": "code",
   "execution_count": 3,
   "id": "9d13532b-5a5a-442a-8eb0-ddf98f9f0688",
   "metadata": {},
   "outputs": [
    {
     "data": {
      "text/html": [
       "<div>\n",
       "<style scoped>\n",
       "    .dataframe tbody tr th:only-of-type {\n",
       "        vertical-align: middle;\n",
       "    }\n",
       "\n",
       "    .dataframe tbody tr th {\n",
       "        vertical-align: top;\n",
       "    }\n",
       "\n",
       "    .dataframe thead th {\n",
       "        text-align: right;\n",
       "    }\n",
       "</style>\n",
       "<table border=\"1\" class=\"dataframe\">\n",
       "  <thead>\n",
       "    <tr style=\"text-align: right;\">\n",
       "      <th></th>\n",
       "      <th>Unnamed: 0</th>\n",
       "      <th>IDX</th>\n",
       "      <th>CALORIES</th>\n",
       "      <th>CARBOHYDRATECONTENT</th>\n",
       "      <th>CHOLESTEROLCONTENT</th>\n",
       "      <th>FATCONTENT</th>\n",
       "      <th>FIBERCONTENT</th>\n",
       "      <th>IMAGES</th>\n",
       "      <th>KEYWORDS</th>\n",
       "      <th>NAME</th>\n",
       "      <th>PROTEINCONTENT</th>\n",
       "      <th>RECIPECATEGORY</th>\n",
       "      <th>RECIPEINGREDIENTPARTS</th>\n",
       "      <th>RECIPEINSTRUCTIONS</th>\n",
       "      <th>SATURATEDFATCONTENT</th>\n",
       "      <th>SODIUMCONTENT</th>\n",
       "      <th>SUGARCONTENT</th>\n",
       "    </tr>\n",
       "  </thead>\n",
       "  <tbody>\n",
       "    <tr>\n",
       "      <th>0</th>\n",
       "      <td>0</td>\n",
       "      <td>31</td>\n",
       "      <td>236.8</td>\n",
       "      <td>41.6</td>\n",
       "      <td>0.0</td>\n",
       "      <td>0.2</td>\n",
       "      <td>0.2</td>\n",
       "      <td>https://img.sndimg.com/food/image/upload/w_555...</td>\n",
       "      <td>Beverages, Low Protein, Low Cholesterol, Healt...</td>\n",
       "      <td>Champagne Punch</td>\n",
       "      <td>0.6</td>\n",
       "      <td>Punch Beverage</td>\n",
       "      <td>frozen limeade concentrate, ginger ale</td>\n",
       "      <td>Mix the juice concentrates in punch bowl (do n...</td>\n",
       "      <td>0.0</td>\n",
       "      <td>14.2</td>\n",
       "      <td>38.1</td>\n",
       "    </tr>\n",
       "  </tbody>\n",
       "</table>\n",
       "</div>"
      ],
      "text/plain": [
       "   Unnamed: 0  IDX  CALORIES  ...  SATURATEDFATCONTENT  SODIUMCONTENT  SUGARCONTENT\n",
       "0           0   31     236.8  ...                  0.0           14.2          38.1\n",
       "\n",
       "[1 rows x 17 columns]"
      ]
     },
     "execution_count": 3,
     "metadata": {},
     "output_type": "execute_result"
    }
   ],
   "source": [
    "import pandas as pd\n",
    "\n",
    "food = pd.read_csv(\"foodDataSave.csv\")\n",
    "\n",
    "food.head(1)"
   ]
  },
  {
   "cell_type": "code",
   "execution_count": 4,
   "id": "8b8d7dfe-e7d7-4e9d-892e-b42eb9dd0fdd",
   "metadata": {
    "tags": []
   },
   "outputs": [
    {
     "name": "stdout",
     "output_type": "stream",
     "text": [
      "<class 'pandas.core.frame.DataFrame'>\n",
      "RangeIndex: 67578 entries, 0 to 67577\n",
      "Data columns (total 17 columns):\n",
      " #   Column                 Non-Null Count  Dtype  \n",
      "---  ------                 --------------  -----  \n",
      " 0   Unnamed: 0             67578 non-null  int64  \n",
      " 1   IDX                    67578 non-null  int64  \n",
      " 2   CALORIES               67578 non-null  float64\n",
      " 3   CARBOHYDRATECONTENT    67578 non-null  float64\n",
      " 4   CHOLESTEROLCONTENT     67578 non-null  float64\n",
      " 5   FATCONTENT             67578 non-null  float64\n",
      " 6   FIBERCONTENT           67578 non-null  float64\n",
      " 7   IMAGES                 67577 non-null  object \n",
      " 8   KEYWORDS               67578 non-null  object \n",
      " 9   NAME                   67578 non-null  object \n",
      " 10  PROTEINCONTENT         67578 non-null  float64\n",
      " 11  RECIPECATEGORY         67578 non-null  object \n",
      " 12  RECIPEINGREDIENTPARTS  67578 non-null  object \n",
      " 13  RECIPEINSTRUCTIONS     67578 non-null  object \n",
      " 14  SATURATEDFATCONTENT    67578 non-null  float64\n",
      " 15  SODIUMCONTENT          67578 non-null  float64\n",
      " 16  SUGARCONTENT           67578 non-null  float64\n",
      "dtypes: float64(9), int64(2), object(6)\n",
      "memory usage: 8.8+ MB\n"
     ]
    }
   ],
   "source": [
    "food.info()"
   ]
  },
  {
   "cell_type": "code",
   "execution_count": 9,
   "id": "ec021e69-2b07-4efa-b72f-f83d6bd910be",
   "metadata": {
    "tags": []
   },
   "outputs": [
    {
     "data": {
      "text/html": [
       "<div>\n",
       "<style scoped>\n",
       "    .dataframe tbody tr th:only-of-type {\n",
       "        vertical-align: middle;\n",
       "    }\n",
       "\n",
       "    .dataframe tbody tr th {\n",
       "        vertical-align: top;\n",
       "    }\n",
       "\n",
       "    .dataframe thead th {\n",
       "        text-align: right;\n",
       "    }\n",
       "</style>\n",
       "<table border=\"1\" class=\"dataframe\">\n",
       "  <thead>\n",
       "    <tr style=\"text-align: right;\">\n",
       "      <th></th>\n",
       "      <th>Unnamed: 0</th>\n",
       "      <th>IDX</th>\n",
       "      <th>CALORIES</th>\n",
       "      <th>CARBOHYDRATECONTENT</th>\n",
       "      <th>CHOLESTEROLCONTENT</th>\n",
       "      <th>FATCONTENT</th>\n",
       "      <th>FIBERCONTENT</th>\n",
       "      <th>IMAGES</th>\n",
       "      <th>KEYWORDS</th>\n",
       "      <th>NAME</th>\n",
       "      <th>PROTEINCONTENT</th>\n",
       "      <th>RECIPECATEGORY</th>\n",
       "      <th>RECIPEINGREDIENTPARTS</th>\n",
       "      <th>RECIPEINSTRUCTIONS</th>\n",
       "      <th>SATURATEDFATCONTENT</th>\n",
       "      <th>SODIUMCONTENT</th>\n",
       "      <th>SUGARCONTENT</th>\n",
       "    </tr>\n",
       "  </thead>\n",
       "  <tbody>\n",
       "    <tr>\n",
       "      <th>381</th>\n",
       "      <td>385</td>\n",
       "      <td>940</td>\n",
       "      <td>928.6</td>\n",
       "      <td>7.2</td>\n",
       "      <td>344.6</td>\n",
       "      <td>93.0</td>\n",
       "      <td>2.1</td>\n",
       "      <td>NaN</td>\n",
       "      <td>European, Very Low Carbs, &lt; 15 Mins</td>\n",
       "      <td>Hot Swiss Chard Salad</td>\n",
       "      <td>16.4</td>\n",
       "      <td>Swiss</td>\n",
       "      <td>garlic, fresh swiss chard, red wine vinegar, s...</td>\n",
       "      <td>Marinate garlic clove in oil for 1 hour, Remov...</td>\n",
       "      <td>15.9</td>\n",
       "      <td>1172.6</td>\n",
       "      <td>2.5</td>\n",
       "    </tr>\n",
       "  </tbody>\n",
       "</table>\n",
       "</div>"
      ],
      "text/plain": [
       "     Unnamed: 0  IDX  ...  SODIUMCONTENT  SUGARCONTENT\n",
       "381         385  940  ...         1172.6           2.5\n",
       "\n",
       "[1 rows x 17 columns]"
      ]
     },
     "execution_count": 9,
     "metadata": {},
     "output_type": "execute_result"
    }
   ],
   "source": [
    "food[pd.isna(food['IMAGES'])]"
   ]
  },
  {
   "cell_type": "code",
   "execution_count": 10,
   "id": "3f2e253a-a1e5-4942-af27-ad44f8fddcdc",
   "metadata": {
    "tags": []
   },
   "outputs": [
    {
     "name": "stdout",
     "output_type": "stream",
     "text": [
      "<class 'pandas.core.frame.DataFrame'>\n",
      "Index: 67577 entries, 0 to 67577\n",
      "Data columns (total 17 columns):\n",
      " #   Column                 Non-Null Count  Dtype  \n",
      "---  ------                 --------------  -----  \n",
      " 0   Unnamed: 0             67577 non-null  int64  \n",
      " 1   IDX                    67577 non-null  int64  \n",
      " 2   CALORIES               67577 non-null  float64\n",
      " 3   CARBOHYDRATECONTENT    67577 non-null  float64\n",
      " 4   CHOLESTEROLCONTENT     67577 non-null  float64\n",
      " 5   FATCONTENT             67577 non-null  float64\n",
      " 6   FIBERCONTENT           67577 non-null  float64\n",
      " 7   IMAGES                 67577 non-null  object \n",
      " 8   KEYWORDS               67577 non-null  object \n",
      " 9   NAME                   67577 non-null  object \n",
      " 10  PROTEINCONTENT         67577 non-null  float64\n",
      " 11  RECIPECATEGORY         67577 non-null  object \n",
      " 12  RECIPEINGREDIENTPARTS  67577 non-null  object \n",
      " 13  RECIPEINSTRUCTIONS     67577 non-null  object \n",
      " 14  SATURATEDFATCONTENT    67577 non-null  float64\n",
      " 15  SODIUMCONTENT          67577 non-null  float64\n",
      " 16  SUGARCONTENT           67577 non-null  float64\n",
      "dtypes: float64(9), int64(2), object(6)\n",
      "memory usage: 9.3+ MB\n"
     ]
    }
   ],
   "source": [
    "food = food[food['IDX'] != 940]\n",
    "food.info()"
   ]
  },
  {
   "cell_type": "code",
   "execution_count": 11,
   "id": "bb8a43e8-0804-4363-873f-fe55f7abae87",
   "metadata": {
    "tags": []
   },
   "outputs": [
    {
     "name": "stdout",
     "output_type": "stream",
     "text": [
      "<class 'pandas.core.frame.DataFrame'>\n",
      "Index: 66898 entries, 0 to 67577\n",
      "Data columns (total 17 columns):\n",
      " #   Column                 Non-Null Count  Dtype  \n",
      "---  ------                 --------------  -----  \n",
      " 0   Unnamed: 0             66898 non-null  int64  \n",
      " 1   IDX                    66898 non-null  int64  \n",
      " 2   CALORIES               66898 non-null  float64\n",
      " 3   CARBOHYDRATECONTENT    66898 non-null  float64\n",
      " 4   CHOLESTEROLCONTENT     66898 non-null  float64\n",
      " 5   FATCONTENT             66898 non-null  float64\n",
      " 6   FIBERCONTENT           66898 non-null  float64\n",
      " 7   IMAGES                 66898 non-null  object \n",
      " 8   KEYWORDS               66898 non-null  object \n",
      " 9   NAME                   66898 non-null  object \n",
      " 10  PROTEINCONTENT         66898 non-null  float64\n",
      " 11  RECIPECATEGORY         66898 non-null  object \n",
      " 12  RECIPEINGREDIENTPARTS  66898 non-null  object \n",
      " 13  RECIPEINSTRUCTIONS     66898 non-null  object \n",
      " 14  SATURATEDFATCONTENT    66898 non-null  float64\n",
      " 15  SODIUMCONTENT          66898 non-null  float64\n",
      " 16  SUGARCONTENT           66898 non-null  float64\n",
      "dtypes: float64(9), int64(2), object(6)\n",
      "memory usage: 9.2+ MB\n"
     ]
    }
   ],
   "source": [
    "food = food[food['KEYWORDS'] != '< 30 Mins']\n",
    "food.info()"
   ]
  },
  {
   "cell_type": "code",
   "execution_count": 12,
   "id": "7e926f1e-4f03-43e3-9da3-953af26c70f5",
   "metadata": {
    "tags": []
   },
   "outputs": [
    {
     "name": "stdout",
     "output_type": "stream",
     "text": [
      "<class 'pandas.core.frame.DataFrame'>\n",
      "Index: 66229 entries, 0 to 67577\n",
      "Data columns (total 17 columns):\n",
      " #   Column                 Non-Null Count  Dtype  \n",
      "---  ------                 --------------  -----  \n",
      " 0   Unnamed: 0             66229 non-null  int64  \n",
      " 1   IDX                    66229 non-null  int64  \n",
      " 2   CALORIES               66229 non-null  float64\n",
      " 3   CARBOHYDRATECONTENT    66229 non-null  float64\n",
      " 4   CHOLESTEROLCONTENT     66229 non-null  float64\n",
      " 5   FATCONTENT             66229 non-null  float64\n",
      " 6   FIBERCONTENT           66229 non-null  float64\n",
      " 7   IMAGES                 66229 non-null  object \n",
      " 8   KEYWORDS               66229 non-null  object \n",
      " 9   NAME                   66229 non-null  object \n",
      " 10  PROTEINCONTENT         66229 non-null  float64\n",
      " 11  RECIPECATEGORY         66229 non-null  object \n",
      " 12  RECIPEINGREDIENTPARTS  66229 non-null  object \n",
      " 13  RECIPEINSTRUCTIONS     66229 non-null  object \n",
      " 14  SATURATEDFATCONTENT    66229 non-null  float64\n",
      " 15  SODIUMCONTENT          66229 non-null  float64\n",
      " 16  SUGARCONTENT           66229 non-null  float64\n",
      "dtypes: float64(9), int64(2), object(6)\n",
      "memory usage: 9.1+ MB\n"
     ]
    }
   ],
   "source": [
    "food = food[food['KEYWORDS'] != '< 60 Mins']\n",
    "food.info()"
   ]
  },
  {
   "cell_type": "code",
   "execution_count": 13,
   "id": "04ac48f6-e06d-4262-8b7e-d84b4952d65a",
   "metadata": {
    "tags": []
   },
   "outputs": [
    {
     "name": "stdout",
     "output_type": "stream",
     "text": [
      "<class 'pandas.core.frame.DataFrame'>\n",
      "Index: 65742 entries, 0 to 67577\n",
      "Data columns (total 17 columns):\n",
      " #   Column                 Non-Null Count  Dtype  \n",
      "---  ------                 --------------  -----  \n",
      " 0   Unnamed: 0             65742 non-null  int64  \n",
      " 1   IDX                    65742 non-null  int64  \n",
      " 2   CALORIES               65742 non-null  float64\n",
      " 3   CARBOHYDRATECONTENT    65742 non-null  float64\n",
      " 4   CHOLESTEROLCONTENT     65742 non-null  float64\n",
      " 5   FATCONTENT             65742 non-null  float64\n",
      " 6   FIBERCONTENT           65742 non-null  float64\n",
      " 7   IMAGES                 65742 non-null  object \n",
      " 8   KEYWORDS               65742 non-null  object \n",
      " 9   NAME                   65742 non-null  object \n",
      " 10  PROTEINCONTENT         65742 non-null  float64\n",
      " 11  RECIPECATEGORY         65742 non-null  object \n",
      " 12  RECIPEINGREDIENTPARTS  65742 non-null  object \n",
      " 13  RECIPEINSTRUCTIONS     65742 non-null  object \n",
      " 14  SATURATEDFATCONTENT    65742 non-null  float64\n",
      " 15  SODIUMCONTENT          65742 non-null  float64\n",
      " 16  SUGARCONTENT           65742 non-null  float64\n",
      "dtypes: float64(9), int64(2), object(6)\n",
      "memory usage: 9.0+ MB\n"
     ]
    }
   ],
   "source": [
    "food = food[food['KEYWORDS'] != '< 15 Mins']\n",
    "food.info()"
   ]
  },
  {
   "cell_type": "code",
   "execution_count": 14,
   "id": "65f3b1fd-f4f4-4935-a604-6974376cad7d",
   "metadata": {
    "tags": []
   },
   "outputs": [
    {
     "name": "stdout",
     "output_type": "stream",
     "text": [
      "<class 'pandas.core.frame.DataFrame'>\n",
      "Index: 65740 entries, 0 to 67577\n",
      "Data columns (total 17 columns):\n",
      " #   Column                 Non-Null Count  Dtype  \n",
      "---  ------                 --------------  -----  \n",
      " 0   Unnamed: 0             65740 non-null  int64  \n",
      " 1   IDX                    65740 non-null  int64  \n",
      " 2   CALORIES               65740 non-null  float64\n",
      " 3   CARBOHYDRATECONTENT    65740 non-null  float64\n",
      " 4   CHOLESTEROLCONTENT     65740 non-null  float64\n",
      " 5   FATCONTENT             65740 non-null  float64\n",
      " 6   FIBERCONTENT           65740 non-null  float64\n",
      " 7   IMAGES                 65740 non-null  object \n",
      " 8   KEYWORDS               65740 non-null  object \n",
      " 9   NAME                   65740 non-null  object \n",
      " 10  PROTEINCONTENT         65740 non-null  float64\n",
      " 11  RECIPECATEGORY         65740 non-null  object \n",
      " 12  RECIPEINGREDIENTPARTS  65740 non-null  object \n",
      " 13  RECIPEINSTRUCTIONS     65740 non-null  object \n",
      " 14  SATURATEDFATCONTENT    65740 non-null  float64\n",
      " 15  SODIUMCONTENT          65740 non-null  float64\n",
      " 16  SUGARCONTENT           65740 non-null  float64\n",
      "dtypes: float64(9), int64(2), object(6)\n",
      "memory usage: 9.0+ MB\n"
     ]
    }
   ],
   "source": [
    "food = food[food['KEYWORDS'] != 'High In...']\n",
    "food.info()"
   ]
  },
  {
   "cell_type": "code",
   "execution_count": 15,
   "id": "ac7c3907-2c41-4bb5-a494-b9254865c758",
   "metadata": {
    "tags": []
   },
   "outputs": [
    {
     "name": "stdout",
     "output_type": "stream",
     "text": [
      "<class 'pandas.core.frame.DataFrame'>\n",
      "Index: 65737 entries, 0 to 67577\n",
      "Data columns (total 17 columns):\n",
      " #   Column                 Non-Null Count  Dtype  \n",
      "---  ------                 --------------  -----  \n",
      " 0   Unnamed: 0             65737 non-null  int64  \n",
      " 1   IDX                    65737 non-null  int64  \n",
      " 2   CALORIES               65737 non-null  float64\n",
      " 3   CARBOHYDRATECONTENT    65737 non-null  float64\n",
      " 4   CHOLESTEROLCONTENT     65737 non-null  float64\n",
      " 5   FATCONTENT             65737 non-null  float64\n",
      " 6   FIBERCONTENT           65737 non-null  float64\n",
      " 7   IMAGES                 65737 non-null  object \n",
      " 8   KEYWORDS               65737 non-null  object \n",
      " 9   NAME                   65737 non-null  object \n",
      " 10  PROTEINCONTENT         65737 non-null  float64\n",
      " 11  RECIPECATEGORY         65737 non-null  object \n",
      " 12  RECIPEINGREDIENTPARTS  65737 non-null  object \n",
      " 13  RECIPEINSTRUCTIONS     65737 non-null  object \n",
      " 14  SATURATEDFATCONTENT    65737 non-null  float64\n",
      " 15  SODIUMCONTENT          65737 non-null  float64\n",
      " 16  SUGARCONTENT           65737 non-null  float64\n",
      "dtypes: float64(9), int64(2), object(6)\n",
      "memory usage: 9.0+ MB\n"
     ]
    }
   ],
   "source": [
    "food = food[food['KEYWORDS'] != 'Free Of...']\n",
    "food.info()"
   ]
  },
  {
   "cell_type": "code",
   "execution_count": 16,
   "id": "bbf6cc03-38a2-4928-9111-851bdb4f8df6",
   "metadata": {
    "tags": []
   },
   "outputs": [
    {
     "name": "stdout",
     "output_type": "stream",
     "text": [
      "<class 'pandas.core.frame.DataFrame'>\n",
      "Index: 65386 entries, 0 to 67577\n",
      "Data columns (total 17 columns):\n",
      " #   Column                 Non-Null Count  Dtype  \n",
      "---  ------                 --------------  -----  \n",
      " 0   Unnamed: 0             65386 non-null  int64  \n",
      " 1   IDX                    65386 non-null  int64  \n",
      " 2   CALORIES               65386 non-null  float64\n",
      " 3   CARBOHYDRATECONTENT    65386 non-null  float64\n",
      " 4   CHOLESTEROLCONTENT     65386 non-null  float64\n",
      " 5   FATCONTENT             65386 non-null  float64\n",
      " 6   FIBERCONTENT           65386 non-null  float64\n",
      " 7   IMAGES                 65386 non-null  object \n",
      " 8   KEYWORDS               65386 non-null  object \n",
      " 9   NAME                   65386 non-null  object \n",
      " 10  PROTEINCONTENT         65386 non-null  float64\n",
      " 11  RECIPECATEGORY         65386 non-null  object \n",
      " 12  RECIPEINGREDIENTPARTS  65386 non-null  object \n",
      " 13  RECIPEINSTRUCTIONS     65386 non-null  object \n",
      " 14  SATURATEDFATCONTENT    65386 non-null  float64\n",
      " 15  SODIUMCONTENT          65386 non-null  float64\n",
      " 16  SUGARCONTENT           65386 non-null  float64\n",
      "dtypes: float64(9), int64(2), object(6)\n",
      "memory usage: 9.0+ MB\n"
     ]
    }
   ],
   "source": [
    "food = food[food['KEYWORDS'] != '< 4 Hours']\n",
    "food.info()"
   ]
  },
  {
   "cell_type": "code",
   "execution_count": 17,
   "id": "8f9aff53-72d9-48df-9b4d-0e2503a1bb22",
   "metadata": {
    "tags": []
   },
   "outputs": [
    {
     "name": "stdout",
     "output_type": "stream",
     "text": [
      "<class 'pandas.core.frame.DataFrame'>\n",
      "Index: 65384 entries, 0 to 67577\n",
      "Data columns (total 17 columns):\n",
      " #   Column                 Non-Null Count  Dtype  \n",
      "---  ------                 --------------  -----  \n",
      " 0   Unnamed: 0             65384 non-null  int64  \n",
      " 1   IDX                    65384 non-null  int64  \n",
      " 2   CALORIES               65384 non-null  float64\n",
      " 3   CARBOHYDRATECONTENT    65384 non-null  float64\n",
      " 4   CHOLESTEROLCONTENT     65384 non-null  float64\n",
      " 5   FATCONTENT             65384 non-null  float64\n",
      " 6   FIBERCONTENT           65384 non-null  float64\n",
      " 7   IMAGES                 65384 non-null  object \n",
      " 8   KEYWORDS               65384 non-null  object \n",
      " 9   NAME                   65384 non-null  object \n",
      " 10  PROTEINCONTENT         65384 non-null  float64\n",
      " 11  RECIPECATEGORY         65384 non-null  object \n",
      " 12  RECIPEINGREDIENTPARTS  65384 non-null  object \n",
      " 13  RECIPEINSTRUCTIONS     65384 non-null  object \n",
      " 14  SATURATEDFATCONTENT    65384 non-null  float64\n",
      " 15  SODIUMCONTENT          65384 non-null  float64\n",
      " 16  SUGARCONTENT           65384 non-null  float64\n",
      "dtypes: float64(9), int64(2), object(6)\n",
      "memory usage: 9.0+ MB\n"
     ]
    }
   ],
   "source": [
    "food = food[food['KEYWORDS'] != 'Free Of..., < 4 Hours']\n",
    "food.info()"
   ]
  },
  {
   "cell_type": "code",
   "execution_count": 19,
   "id": "78a23a23-d6d8-4063-aa1e-a0ffa69c2ad6",
   "metadata": {
    "tags": []
   },
   "outputs": [
    {
     "name": "stdout",
     "output_type": "stream",
     "text": [
      "<class 'pandas.core.frame.DataFrame'>\n",
      "Index: 65349 entries, 0 to 67577\n",
      "Data columns (total 17 columns):\n",
      " #   Column                 Non-Null Count  Dtype  \n",
      "---  ------                 --------------  -----  \n",
      " 0   Unnamed: 0             65349 non-null  int64  \n",
      " 1   IDX                    65349 non-null  int64  \n",
      " 2   CALORIES               65349 non-null  float64\n",
      " 3   CARBOHYDRATECONTENT    65349 non-null  float64\n",
      " 4   CHOLESTEROLCONTENT     65349 non-null  float64\n",
      " 5   FATCONTENT             65349 non-null  float64\n",
      " 6   FIBERCONTENT           65349 non-null  float64\n",
      " 7   IMAGES                 65349 non-null  object \n",
      " 8   KEYWORDS               65349 non-null  object \n",
      " 9   NAME                   65349 non-null  object \n",
      " 10  PROTEINCONTENT         65349 non-null  float64\n",
      " 11  RECIPECATEGORY         65349 non-null  object \n",
      " 12  RECIPEINGREDIENTPARTS  65349 non-null  object \n",
      " 13  RECIPEINSTRUCTIONS     65349 non-null  object \n",
      " 14  SATURATEDFATCONTENT    65349 non-null  float64\n",
      " 15  SODIUMCONTENT          65349 non-null  float64\n",
      " 16  SUGARCONTENT           65349 non-null  float64\n",
      "dtypes: float64(9), int64(2), object(6)\n",
      "memory usage: 9.0+ MB\n"
     ]
    }
   ],
   "source": [
    "food = food[food['KEYWORDS'] != 'High In..., < 15 Mins']\n",
    "food.info()"
   ]
  },
  {
   "cell_type": "code",
   "execution_count": 20,
   "id": "079bc769-cde8-4311-aef6-4ee30f99a386",
   "metadata": {
    "tags": []
   },
   "outputs": [
    {
     "name": "stdout",
     "output_type": "stream",
     "text": [
      "<class 'pandas.core.frame.DataFrame'>\n",
      "Index: 65311 entries, 0 to 67577\n",
      "Data columns (total 17 columns):\n",
      " #   Column                 Non-Null Count  Dtype  \n",
      "---  ------                 --------------  -----  \n",
      " 0   Unnamed: 0             65311 non-null  int64  \n",
      " 1   IDX                    65311 non-null  int64  \n",
      " 2   CALORIES               65311 non-null  float64\n",
      " 3   CARBOHYDRATECONTENT    65311 non-null  float64\n",
      " 4   CHOLESTEROLCONTENT     65311 non-null  float64\n",
      " 5   FATCONTENT             65311 non-null  float64\n",
      " 6   FIBERCONTENT           65311 non-null  float64\n",
      " 7   IMAGES                 65311 non-null  object \n",
      " 8   KEYWORDS               65311 non-null  object \n",
      " 9   NAME                   65311 non-null  object \n",
      " 10  PROTEINCONTENT         65311 non-null  float64\n",
      " 11  RECIPECATEGORY         65311 non-null  object \n",
      " 12  RECIPEINGREDIENTPARTS  65311 non-null  object \n",
      " 13  RECIPEINSTRUCTIONS     65311 non-null  object \n",
      " 14  SATURATEDFATCONTENT    65311 non-null  float64\n",
      " 15  SODIUMCONTENT          65311 non-null  float64\n",
      " 16  SUGARCONTENT           65311 non-null  float64\n",
      "dtypes: float64(9), int64(2), object(6)\n",
      "memory usage: 9.0+ MB\n"
     ]
    }
   ],
   "source": [
    "food = food[food['KEYWORDS'] != 'High In..., < 30 Mins']\n",
    "food.info()"
   ]
  },
  {
   "cell_type": "code",
   "execution_count": 21,
   "id": "add3c38e-d3c2-4222-baa3-7d784237e562",
   "metadata": {
    "tags": []
   },
   "outputs": [
    {
     "name": "stdout",
     "output_type": "stream",
     "text": [
      "<class 'pandas.core.frame.DataFrame'>\n",
      "Index: 65281 entries, 0 to 67577\n",
      "Data columns (total 17 columns):\n",
      " #   Column                 Non-Null Count  Dtype  \n",
      "---  ------                 --------------  -----  \n",
      " 0   Unnamed: 0             65281 non-null  int64  \n",
      " 1   IDX                    65281 non-null  int64  \n",
      " 2   CALORIES               65281 non-null  float64\n",
      " 3   CARBOHYDRATECONTENT    65281 non-null  float64\n",
      " 4   CHOLESTEROLCONTENT     65281 non-null  float64\n",
      " 5   FATCONTENT             65281 non-null  float64\n",
      " 6   FIBERCONTENT           65281 non-null  float64\n",
      " 7   IMAGES                 65281 non-null  object \n",
      " 8   KEYWORDS               65281 non-null  object \n",
      " 9   NAME                   65281 non-null  object \n",
      " 10  PROTEINCONTENT         65281 non-null  float64\n",
      " 11  RECIPECATEGORY         65281 non-null  object \n",
      " 12  RECIPEINGREDIENTPARTS  65281 non-null  object \n",
      " 13  RECIPEINSTRUCTIONS     65281 non-null  object \n",
      " 14  SATURATEDFATCONTENT    65281 non-null  float64\n",
      " 15  SODIUMCONTENT          65281 non-null  float64\n",
      " 16  SUGARCONTENT           65281 non-null  float64\n",
      "dtypes: float64(9), int64(2), object(6)\n",
      "memory usage: 9.0+ MB\n"
     ]
    }
   ],
   "source": [
    "food = food[food['KEYWORDS'] != 'High In..., < 4 Hours']\n",
    "food.info()"
   ]
  },
  {
   "cell_type": "code",
   "execution_count": 22,
   "id": "7d661d64-2e72-4ae6-8606-c61125a90b87",
   "metadata": {
    "tags": []
   },
   "outputs": [
    {
     "name": "stdout",
     "output_type": "stream",
     "text": [
      "<class 'pandas.core.frame.DataFrame'>\n",
      "Index: 65271 entries, 0 to 67577\n",
      "Data columns (total 17 columns):\n",
      " #   Column                 Non-Null Count  Dtype  \n",
      "---  ------                 --------------  -----  \n",
      " 0   Unnamed: 0             65271 non-null  int64  \n",
      " 1   IDX                    65271 non-null  int64  \n",
      " 2   CALORIES               65271 non-null  float64\n",
      " 3   CARBOHYDRATECONTENT    65271 non-null  float64\n",
      " 4   CHOLESTEROLCONTENT     65271 non-null  float64\n",
      " 5   FATCONTENT             65271 non-null  float64\n",
      " 6   FIBERCONTENT           65271 non-null  float64\n",
      " 7   IMAGES                 65271 non-null  object \n",
      " 8   KEYWORDS               65271 non-null  object \n",
      " 9   NAME                   65271 non-null  object \n",
      " 10  PROTEINCONTENT         65271 non-null  float64\n",
      " 11  RECIPECATEGORY         65271 non-null  object \n",
      " 12  RECIPEINGREDIENTPARTS  65271 non-null  object \n",
      " 13  RECIPEINSTRUCTIONS     65271 non-null  object \n",
      " 14  SATURATEDFATCONTENT    65271 non-null  float64\n",
      " 15  SODIUMCONTENT          65271 non-null  float64\n",
      " 16  SUGARCONTENT           65271 non-null  float64\n",
      "dtypes: float64(9), int64(2), object(6)\n",
      "memory usage: 9.0+ MB\n"
     ]
    }
   ],
   "source": [
    "food = food[food['KEYWORDS'] != 'High In..., < 4 Hours']\n",
    "food.info()"
   ]
  },
  {
   "cell_type": "code",
   "execution_count": 23,
   "id": "d4d94aef-d628-4a85-811f-3af068668d60",
   "metadata": {
    "tags": []
   },
   "outputs": [
    {
     "name": "stdout",
     "output_type": "stream",
     "text": [
      "<class 'pandas.core.frame.DataFrame'>\n",
      "Index: 65271 entries, 0 to 67577\n",
      "Data columns (total 17 columns):\n",
      " #   Column                 Non-Null Count  Dtype  \n",
      "---  ------                 --------------  -----  \n",
      " 0   Unnamed: 0             65271 non-null  int64  \n",
      " 1   IDX                    65271 non-null  int64  \n",
      " 2   CALORIES               65271 non-null  float64\n",
      " 3   CARBOHYDRATECONTENT    65271 non-null  float64\n",
      " 4   CHOLESTEROLCONTENT     65271 non-null  float64\n",
      " 5   FATCONTENT             65271 non-null  float64\n",
      " 6   FIBERCONTENT           65271 non-null  float64\n",
      " 7   IMAGES                 65271 non-null  object \n",
      " 8   KEYWORDS               65271 non-null  object \n",
      " 9   NAME                   65271 non-null  object \n",
      " 10  PROTEINCONTENT         65271 non-null  float64\n",
      " 11  RECIPECATEGORY         65271 non-null  object \n",
      " 12  RECIPEINGREDIENTPARTS  65271 non-null  object \n",
      " 13  RECIPEINSTRUCTIONS     65271 non-null  object \n",
      " 14  SATURATEDFATCONTENT    65271 non-null  float64\n",
      " 15  SODIUMCONTENT          65271 non-null  float64\n",
      " 16  SUGARCONTENT           65271 non-null  float64\n",
      "dtypes: float64(9), int64(2), object(6)\n",
      "memory usage: 9.0+ MB\n"
     ]
    }
   ],
   "source": [
    "food = food[food['KEYWORDS'] != 'Free Of..., < 4 Hours']\n",
    "food.info()"
   ]
  },
  {
   "cell_type": "code",
   "execution_count": 24,
   "id": "894885bf-cea0-40c3-8d0d-8e70fa368083",
   "metadata": {
    "tags": []
   },
   "outputs": [
    {
     "name": "stdout",
     "output_type": "stream",
     "text": [
      "<class 'pandas.core.frame.DataFrame'>\n",
      "Index: 65255 entries, 0 to 67577\n",
      "Data columns (total 17 columns):\n",
      " #   Column                 Non-Null Count  Dtype  \n",
      "---  ------                 --------------  -----  \n",
      " 0   Unnamed: 0             65255 non-null  int64  \n",
      " 1   IDX                    65255 non-null  int64  \n",
      " 2   CALORIES               65255 non-null  float64\n",
      " 3   CARBOHYDRATECONTENT    65255 non-null  float64\n",
      " 4   CHOLESTEROLCONTENT     65255 non-null  float64\n",
      " 5   FATCONTENT             65255 non-null  float64\n",
      " 6   FIBERCONTENT           65255 non-null  float64\n",
      " 7   IMAGES                 65255 non-null  object \n",
      " 8   KEYWORDS               65255 non-null  object \n",
      " 9   NAME                   65255 non-null  object \n",
      " 10  PROTEINCONTENT         65255 non-null  float64\n",
      " 11  RECIPECATEGORY         65255 non-null  object \n",
      " 12  RECIPEINGREDIENTPARTS  65255 non-null  object \n",
      " 13  RECIPEINSTRUCTIONS     65255 non-null  object \n",
      " 14  SATURATEDFATCONTENT    65255 non-null  float64\n",
      " 15  SODIUMCONTENT          65255 non-null  float64\n",
      " 16  SUGARCONTENT           65255 non-null  float64\n",
      "dtypes: float64(9), int64(2), object(6)\n",
      "memory usage: 9.0+ MB\n"
     ]
    }
   ],
   "source": [
    "food = food[food['KEYWORDS'] != 'Free Of..., < 15 Mins']\n",
    "food.info()"
   ]
  },
  {
   "cell_type": "code",
   "execution_count": 25,
   "id": "410bd44b-8e19-41ae-b36b-b5cafad16188",
   "metadata": {
    "tags": []
   },
   "outputs": [
    {
     "name": "stdout",
     "output_type": "stream",
     "text": [
      "<class 'pandas.core.frame.DataFrame'>\n",
      "Index: 65225 entries, 0 to 67577\n",
      "Data columns (total 17 columns):\n",
      " #   Column                 Non-Null Count  Dtype  \n",
      "---  ------                 --------------  -----  \n",
      " 0   Unnamed: 0             65225 non-null  int64  \n",
      " 1   IDX                    65225 non-null  int64  \n",
      " 2   CALORIES               65225 non-null  float64\n",
      " 3   CARBOHYDRATECONTENT    65225 non-null  float64\n",
      " 4   CHOLESTEROLCONTENT     65225 non-null  float64\n",
      " 5   FATCONTENT             65225 non-null  float64\n",
      " 6   FIBERCONTENT           65225 non-null  float64\n",
      " 7   IMAGES                 65225 non-null  object \n",
      " 8   KEYWORDS               65225 non-null  object \n",
      " 9   NAME                   65225 non-null  object \n",
      " 10  PROTEINCONTENT         65225 non-null  float64\n",
      " 11  RECIPECATEGORY         65225 non-null  object \n",
      " 12  RECIPEINGREDIENTPARTS  65225 non-null  object \n",
      " 13  RECIPEINSTRUCTIONS     65225 non-null  object \n",
      " 14  SATURATEDFATCONTENT    65225 non-null  float64\n",
      " 15  SODIUMCONTENT          65225 non-null  float64\n",
      " 16  SUGARCONTENT           65225 non-null  float64\n",
      "dtypes: float64(9), int64(2), object(6)\n",
      "memory usage: 9.0+ MB\n"
     ]
    }
   ],
   "source": [
    "food = food[food['KEYWORDS'] != 'Free Of..., < 30 Mins']\n",
    "food.info()"
   ]
  },
  {
   "cell_type": "code",
   "execution_count": 26,
   "id": "a5ec367a-5cca-4e01-9e59-de41f7aacae5",
   "metadata": {
    "tags": []
   },
   "outputs": [
    {
     "name": "stdout",
     "output_type": "stream",
     "text": [
      "<class 'pandas.core.frame.DataFrame'>\n",
      "Index: 65209 entries, 0 to 67577\n",
      "Data columns (total 17 columns):\n",
      " #   Column                 Non-Null Count  Dtype  \n",
      "---  ------                 --------------  -----  \n",
      " 0   Unnamed: 0             65209 non-null  int64  \n",
      " 1   IDX                    65209 non-null  int64  \n",
      " 2   CALORIES               65209 non-null  float64\n",
      " 3   CARBOHYDRATECONTENT    65209 non-null  float64\n",
      " 4   CHOLESTEROLCONTENT     65209 non-null  float64\n",
      " 5   FATCONTENT             65209 non-null  float64\n",
      " 6   FIBERCONTENT           65209 non-null  float64\n",
      " 7   IMAGES                 65209 non-null  object \n",
      " 8   KEYWORDS               65209 non-null  object \n",
      " 9   NAME                   65209 non-null  object \n",
      " 10  PROTEINCONTENT         65209 non-null  float64\n",
      " 11  RECIPECATEGORY         65209 non-null  object \n",
      " 12  RECIPEINGREDIENTPARTS  65209 non-null  object \n",
      " 13  RECIPEINSTRUCTIONS     65209 non-null  object \n",
      " 14  SATURATEDFATCONTENT    65209 non-null  float64\n",
      " 15  SODIUMCONTENT          65209 non-null  float64\n",
      " 16  SUGARCONTENT           65209 non-null  float64\n",
      "dtypes: float64(9), int64(2), object(6)\n",
      "memory usage: 9.0+ MB\n"
     ]
    }
   ],
   "source": [
    "food = food[food['KEYWORDS'] != 'Free Of..., < 60 Mins']\n",
    "food.info()"
   ]
  },
  {
   "cell_type": "code",
   "execution_count": 27,
   "id": "616fdd9b-f1a3-4f03-80e5-4ac152bf9983",
   "metadata": {
    "tags": []
   },
   "outputs": [],
   "source": [
    "food.to_csv('foodDataSave.csv', index=False)"
   ]
  },
  {
   "cell_type": "code",
   "execution_count": 28,
   "id": "438a67c7-e59c-4d47-92ac-ef8be830c6c4",
   "metadata": {
    "tags": []
   },
   "outputs": [
    {
     "data": {
      "text/html": [
       "<div>\n",
       "<style scoped>\n",
       "    .dataframe tbody tr th:only-of-type {\n",
       "        vertical-align: middle;\n",
       "    }\n",
       "\n",
       "    .dataframe tbody tr th {\n",
       "        vertical-align: top;\n",
       "    }\n",
       "\n",
       "    .dataframe thead th {\n",
       "        text-align: right;\n",
       "    }\n",
       "</style>\n",
       "<table border=\"1\" class=\"dataframe\">\n",
       "  <thead>\n",
       "    <tr style=\"text-align: right;\">\n",
       "      <th></th>\n",
       "      <th>IDX</th>\n",
       "      <th>CALORIES</th>\n",
       "      <th>CARBOHYDRATECONTENT</th>\n",
       "      <th>CHOLESTEROLCONTENT</th>\n",
       "      <th>FATCONTENT</th>\n",
       "      <th>FIBERCONTENT</th>\n",
       "      <th>IMAGES</th>\n",
       "      <th>KEYWORDS</th>\n",
       "      <th>NAME</th>\n",
       "      <th>PROTEINCONTENT</th>\n",
       "      <th>RECIPECATEGORY</th>\n",
       "      <th>RECIPEINGREDIENTPARTS</th>\n",
       "      <th>RECIPEINSTRUCTIONS</th>\n",
       "      <th>SATURATEDFATCONTENT</th>\n",
       "      <th>SODIUMCONTENT</th>\n",
       "      <th>SUGARCONTENT</th>\n",
       "    </tr>\n",
       "  </thead>\n",
       "  <tbody>\n",
       "    <tr>\n",
       "      <th>0</th>\n",
       "      <td>11</td>\n",
       "      <td>381.7</td>\n",
       "      <td>2.9</td>\n",
       "      <td>93.2</td>\n",
       "      <td>34.1</td>\n",
       "      <td>0.6</td>\n",
       "      <td>https://img.sndimg.com/food/image/upload/w_555...</td>\n",
       "      <td>Meat, Very Low Carbs, Weeknight, &lt; 4 Hours, Easy</td>\n",
       "      <td>Lemon Curried Lamb Chops</td>\n",
       "      <td>15.9</td>\n",
       "      <td>Lamb/Sheep</td>\n",
       "      <td>lamb chops, lemon juice, salt, curry powder, s...</td>\n",
       "      <td>Combine lemon juice, curry powder, salt and su...</td>\n",
       "      <td>16.7</td>\n",
       "      <td>696.8</td>\n",
       "      <td>0.8</td>\n",
       "    </tr>\n",
       "  </tbody>\n",
       "</table>\n",
       "</div>"
      ],
      "text/plain": [
       "   IDX  CALORIES  ...  SODIUMCONTENT  SUGARCONTENT\n",
       "0   11     381.7  ...          696.8           0.8\n",
       "\n",
       "[1 rows x 16 columns]"
      ]
     },
     "execution_count": 28,
     "metadata": {},
     "output_type": "execute_result"
    }
   ],
   "source": [
    "food = pd.read_csv('FOOD_RECIPE_DATA_TABLE_2.csv')\n",
    "food.head(1)"
   ]
  },
  {
   "cell_type": "code",
   "execution_count": 29,
   "id": "fd0bea59-8f1f-4ba6-b04a-5b8f46f7bd78",
   "metadata": {
    "tags": []
   },
   "outputs": [],
   "source": [
    "food.to_pickle('food.pkl')"
   ]
  },
  {
   "cell_type": "code",
   "execution_count": 68,
   "id": "ad991cee-3d5b-4c4b-b927-9f5ac9ae680c",
   "metadata": {
    "tags": []
   },
   "outputs": [
    {
     "name": "stdout",
     "output_type": "stream",
     "text": [
      "Precision: 1.0\n",
      "Recall: 0.5938506364054593\n",
      "F1 Score: 0.7451772742579498\n"
     ]
    }
   ],
   "source": [
    "import pandas as pd\n",
    "import numpy as np\n",
    "from sklearn.metrics import precision_score, recall_score, f1_score\n",
    "from sklearn.model_selection import train_test_split\n",
    "from sklearn.feature_extraction.text import TfidfVectorizer\n",
    "from sklearn.metrics.pairwise import cosine_similarity\n",
    "\n",
    "# 데이터 준비\n",
    "food = pd.read_pickle('./food.pkl')\n",
    "\n",
    "# 학습 데이터와 테스트 데이터로 분할\n",
    "train_data, test_data = train_test_split(food, test_size=0.2, random_state=42)\n",
    "\n",
    "def find_words_with_excluded_ingredients(food_data, excluded_ingredients):\n",
    "    except_list = []\n",
    "    for ingredients in food_data['RECIPEINGREDIENTPARTS']:\n",
    "        words = ingredients.split()\n",
    "        for word in words:\n",
    "            for ingredient in excluded_ingredients:\n",
    "                if ingredient.lower() in word.lower():\n",
    "                    except_list.append(word)\n",
    "    return except_list\n",
    "\n",
    "def filter_food_data(food_data, except_list, calories_threshold):\n",
    "    filtered_food_data = food_data.copy()\n",
    "    for ingredient in except_list:\n",
    "        # 'RECIPEINGREDIENTPARTS' 열에서 해당 재료를 포함하지 않는 행만을 선택하여 필터링\n",
    "        filtered_food_data = filtered_food_data[~filtered_food_data['RECIPEINGREDIENTPARTS'].str.contains(ingredient, case=False, regex=False)]\n",
    "      \n",
    "    filtered_food_data = filtered_food_data[filtered_food_data['CALORIES'] < calories_threshold]\n",
    "    return filtered_food_data\n",
    "\n",
    "def get_recommendations(user_keywords, tfidf_vectorizer, tfidf_matrix):\n",
    "    user_tfidf_matrix = tfidf_vectorizer.transform([' '.join(user_keywords)])\n",
    "    cosine_sim = cosine_similarity(user_tfidf_matrix, tfidf_matrix)\n",
    "    return cosine_sim[0]\n",
    "\n",
    "def calculate_nutrient_similarity(user_nutrient_needs, food_nutrients):\n",
    "    user_nutrient_vector = np.array(user_nutrient_needs).reshape(1, -1)\n",
    "    nutrient_sim = cosine_similarity(user_nutrient_vector, food_nutrients)\n",
    "    return nutrient_sim[0]\n",
    "\n",
    "def get_final_recommendations(keywords_similarities, nutrient_similarities, food_data, user_calories_threshold):\n",
    "    combined_similarities = (np.array(keywords_similarities) + np.array(nutrient_similarities)) / 2\n",
    "    sim_scores = list(enumerate(combined_similarities))\n",
    "    sim_scores = sorted(sim_scores, key=lambda x: x[1], reverse=True)\n",
    "    food_indices = [idx[0] for idx in sim_scores if food_data.iloc[idx[0]]['CALORIES'] < user_calories_threshold]\n",
    "    recommendations = food_data.iloc[food_indices][['IDX', 'NAME', 'CALORIES', 'IMAGES']]\n",
    "    \n",
    "    return recommendations\n",
    "\n",
    "# 평가 함수\n",
    "def evaluate_recommendations(test_data, exclude_ingredients, selected_keywords, nutrient_choice, diet_calory):\n",
    "    except_list = find_words_with_excluded_ingredients(test_data, exclude_ingredients)\n",
    "    unique_except_list = list(set(except_list))\n",
    "    filtered_food = filter_food_data(test_data, unique_except_list, diet_calory)\n",
    "\n",
    "    tfidf = TfidfVectorizer(stop_words='english')\n",
    "    tfidf_matrix = tfidf.fit_transform(filtered_food['KEYWORDS'])\n",
    "    keywords_similarities = get_recommendations(selected_keywords, tfidf, tfidf_matrix)\n",
    "\n",
    "    food_nutrients = filtered_food[['CARBOHYDRATECONTENT', 'PROTEINCONTENT', 'FATCONTENT']].values\n",
    "    nutrient_similarities = calculate_nutrient_similarity(nutrient_choice, food_nutrients)\n",
    "\n",
    "    recommendations = get_final_recommendations(keywords_similarities, nutrient_similarities, filtered_food, diet_calory)\n",
    "    return recommendations\n",
    "\n",
    "# 사용자 설정 (임의의 예시)\n",
    "selected_keywords = ['Dessert']\n",
    "exclude_ingredients = ['Egg','Milk']\n",
    "nutrient_choice = [300, 11, 0] # 임의의 영양소 선택\n",
    "diet_calory = 1354 * 0.35\n",
    "\n",
    "# 추천 목록 생성\n",
    "recommendations = evaluate_recommendations(test_data, exclude_ingredients, selected_keywords, nutrient_choice, diet_calory)\n",
    "\n",
    "# 성능 평가\n",
    "# 테스트 데이터와 추천 데이터 비교하여 성능 지표 계산\n",
    "true_positives = sum([1 for idx in test_data['IDX'] if idx in recommendations['IDX'].values])\n",
    "false_positives = len(recommendations) - true_positives\n",
    "false_negatives = len(test_data) - true_positives\n",
    "\n",
    "precision = true_positives / (true_positives + false_positives)\n",
    "recall = true_positives / (true_positives + false_negatives)\n",
    "f1 = 2 * (precision * recall) / (precision + recall)\n",
    "\n",
    "print(f'Precision: {precision}')\n",
    "print(f'Recall: {recall}')\n",
    "print(f'F1 Score: {f1}')\n"
   ]
  },
  {
   "cell_type": "code",
   "execution_count": null,
   "id": "1eef24d4-e343-4d4f-a23a-147e4e3c4b7d",
   "metadata": {},
   "outputs": [],
   "source": []
  }
 ],
 "metadata": {
  "kernelspec": {
   "display_name": "Python 3 (ipykernel)",
   "language": "python",
   "name": "python3"
  },
  "language_info": {
   "codemirror_mode": {
    "name": "ipython",
    "version": 3
   },
   "file_extension": ".py",
   "mimetype": "text/x-python",
   "name": "python",
   "nbconvert_exporter": "python",
   "pygments_lexer": "ipython3",
   "version": "3.11.5"
  }
 },
 "nbformat": 4,
 "nbformat_minor": 5
}
