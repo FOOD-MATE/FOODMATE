{
 "cells": [
  {
   "cell_type": "code",
   "execution_count": 7,
   "id": "f9bb4056-78ba-44e8-9c0b-5355e4ac1cc0",
   "metadata": {
    "tags": []
   },
   "outputs": [
    {
     "data": {
      "text/html": [
       "<div>\n",
       "<style scoped>\n",
       "    .dataframe tbody tr th:only-of-type {\n",
       "        vertical-align: middle;\n",
       "    }\n",
       "\n",
       "    .dataframe tbody tr th {\n",
       "        vertical-align: top;\n",
       "    }\n",
       "\n",
       "    .dataframe thead th {\n",
       "        text-align: right;\n",
       "    }\n",
       "</style>\n",
       "<table border=\"1\" class=\"dataframe\">\n",
       "  <thead>\n",
       "    <tr style=\"text-align: right;\">\n",
       "      <th></th>\n",
       "      <th>Unnamed: 0</th>\n",
       "      <th>Name</th>\n",
       "      <th>Images</th>\n",
       "      <th>RecipeCategory</th>\n",
       "      <th>Keywords</th>\n",
       "      <th>RecipeIngredientParts</th>\n",
       "      <th>Calories</th>\n",
       "      <th>FatContent</th>\n",
       "      <th>SaturatedFatContent</th>\n",
       "      <th>CholesterolContent</th>\n",
       "      <th>SodiumContent</th>\n",
       "      <th>CarbohydrateContent</th>\n",
       "      <th>FiberContent</th>\n",
       "      <th>SugarContent</th>\n",
       "      <th>ProteinContent</th>\n",
       "      <th>RecipeInstructions</th>\n",
       "    </tr>\n",
       "  </thead>\n",
       "  <tbody>\n",
       "    <tr>\n",
       "      <th>0</th>\n",
       "      <td>0</td>\n",
       "      <td>Low-Fat Berry Blue Frozen Dessert</td>\n",
       "      <td>https://img.sndimg.com/food/image/upload/w_555...</td>\n",
       "      <td>Frozen Desserts</td>\n",
       "      <td>Dessert, Low Protein, Low Cholesterol, Healthy...</td>\n",
       "      <td>blueberries, granulated sugar, vanilla yogurt,...</td>\n",
       "      <td>170.9</td>\n",
       "      <td>2.5</td>\n",
       "      <td>1.3</td>\n",
       "      <td>8.0</td>\n",
       "      <td>29.8</td>\n",
       "      <td>37.1</td>\n",
       "      <td>3.6</td>\n",
       "      <td>30.2</td>\n",
       "      <td>3.2</td>\n",
       "      <td>Toss 2 cups berries with sugar, Let stand for ...</td>\n",
       "    </tr>\n",
       "  </tbody>\n",
       "</table>\n",
       "</div>"
      ],
      "text/plain": [
       "   Unnamed: 0  ...                                 RecipeInstructions\n",
       "0           0  ...  Toss 2 cups berries with sugar, Let stand for ...\n",
       "\n",
       "[1 rows x 16 columns]"
      ]
     },
     "execution_count": 7,
     "metadata": {},
     "output_type": "execute_result"
    }
   ],
   "source": [
    "import pandas as pd\n",
    "\n",
    "food = pd.read_csv(\"foodData4_24.csv\")\n",
    "\n",
    "food.head(1)"
   ]
  },
  {
   "cell_type": "code",
   "execution_count": 8,
   "id": "e7cbeabe-bcc7-4b97-8860-479020eff0e3",
   "metadata": {
    "tags": []
   },
   "outputs": [
    {
     "name": "stdout",
     "output_type": "stream",
     "text": [
      "<class 'pandas.core.frame.DataFrame'>\n",
      "Index: 165095 entries, 0 to 165896\n",
      "Data columns (total 16 columns):\n",
      " #   Column                 Non-Null Count   Dtype  \n",
      "---  ------                 --------------   -----  \n",
      " 0   Unnamed: 0             165095 non-null  int64  \n",
      " 1   Name                   165095 non-null  object \n",
      " 2   Images                 165094 non-null  object \n",
      " 3   RecipeCategory         164913 non-null  object \n",
      " 4   Keywords               160713 non-null  object \n",
      " 5   RecipeIngredientParts  165095 non-null  object \n",
      " 6   Calories               165095 non-null  float64\n",
      " 7   FatContent             165095 non-null  float64\n",
      " 8   SaturatedFatContent    165095 non-null  float64\n",
      " 9   CholesterolContent     165095 non-null  float64\n",
      " 10  SodiumContent          165095 non-null  float64\n",
      " 11  CarbohydrateContent    165095 non-null  float64\n",
      " 12  FiberContent           165095 non-null  float64\n",
      " 13  SugarContent           165095 non-null  float64\n",
      " 14  ProteinContent         165095 non-null  float64\n",
      " 15  RecipeInstructions     165095 non-null  object \n",
      "dtypes: float64(9), int64(1), object(6)\n",
      "memory usage: 21.4+ MB\n"
     ]
    }
   ],
   "source": [
    "food = food[food['RecipeIngredientParts'] != 'character(0']\n",
    "food.info()"
   ]
  },
  {
   "cell_type": "code",
   "execution_count": 9,
   "id": "86d1dc8e-370f-4f82-90bf-2266d28eefcf",
   "metadata": {
    "tags": []
   },
   "outputs": [
    {
     "name": "stdout",
     "output_type": "stream",
     "text": [
      "<class 'pandas.core.frame.DataFrame'>\n",
      "Index: 165095 entries, 0 to 165896\n",
      "Data columns (total 16 columns):\n",
      " #   Column                 Non-Null Count   Dtype  \n",
      "---  ------                 --------------   -----  \n",
      " 0   Unnamed: 0             165095 non-null  int64  \n",
      " 1   Name                   165095 non-null  object \n",
      " 2   Images                 165094 non-null  object \n",
      " 3   RecipeCategory         164913 non-null  object \n",
      " 4   Keywords               160713 non-null  object \n",
      " 5   RecipeIngredientParts  165095 non-null  object \n",
      " 6   Calories               165095 non-null  float64\n",
      " 7   FatContent             165095 non-null  float64\n",
      " 8   SaturatedFatContent    165095 non-null  float64\n",
      " 9   CholesterolContent     165095 non-null  float64\n",
      " 10  SodiumContent          165095 non-null  float64\n",
      " 11  CarbohydrateContent    165095 non-null  float64\n",
      " 12  FiberContent           165095 non-null  float64\n",
      " 13  SugarContent           165095 non-null  float64\n",
      " 14  ProteinContent         165095 non-null  float64\n",
      " 15  RecipeInstructions     165095 non-null  object \n",
      "dtypes: float64(9), int64(1), object(6)\n",
      "memory usage: 21.4+ MB\n"
     ]
    }
   ],
   "source": [
    "food = food[food['Images'] != 'character(0']\n",
    "\n",
    "food.info()"
   ]
  },
  {
   "cell_type": "code",
   "execution_count": 10,
   "id": "9e1b160e-c5c3-4cc9-970b-fc46de4c9bd3",
   "metadata": {
    "tags": []
   },
   "outputs": [
    {
     "name": "stdout",
     "output_type": "stream",
     "text": [
      "<class 'pandas.core.frame.DataFrame'>\n",
      "Index: 165095 entries, 0 to 165896\n",
      "Data columns (total 16 columns):\n",
      " #   Column                 Non-Null Count   Dtype  \n",
      "---  ------                 --------------   -----  \n",
      " 0   Unnamed: 0             165095 non-null  int64  \n",
      " 1   Name                   165095 non-null  object \n",
      " 2   Images                 165094 non-null  object \n",
      " 3   RecipeCategory         164913 non-null  object \n",
      " 4   Keywords               160713 non-null  object \n",
      " 5   RecipeIngredientParts  165095 non-null  object \n",
      " 6   Calories               165095 non-null  float64\n",
      " 7   FatContent             165095 non-null  float64\n",
      " 8   SaturatedFatContent    165095 non-null  float64\n",
      " 9   CholesterolContent     165095 non-null  float64\n",
      " 10  SodiumContent          165095 non-null  float64\n",
      " 11  CarbohydrateContent    165095 non-null  float64\n",
      " 12  FiberContent           165095 non-null  float64\n",
      " 13  SugarContent           165095 non-null  float64\n",
      " 14  ProteinContent         165095 non-null  float64\n",
      " 15  RecipeInstructions     165095 non-null  object \n",
      "dtypes: float64(9), int64(1), object(6)\n",
      "memory usage: 21.4+ MB\n"
     ]
    }
   ],
   "source": [
    "food.dropna()\n",
    "\n",
    "food.info()"
   ]
  },
  {
   "cell_type": "code",
   "execution_count": 11,
   "id": "6d1666ab-e1db-420b-ad28-24affef834db",
   "metadata": {
    "tags": []
   },
   "outputs": [
    {
     "name": "stdout",
     "output_type": "stream",
     "text": [
      "<class 'pandas.core.frame.DataFrame'>\n",
      "Index: 160123 entries, 0 to 165896\n",
      "Data columns (total 16 columns):\n",
      " #   Column                 Non-Null Count   Dtype  \n",
      "---  ------                 --------------   -----  \n",
      " 0   Unnamed: 0             160123 non-null  int64  \n",
      " 1   Name                   160123 non-null  object \n",
      " 2   Images                 160122 non-null  object \n",
      " 3   RecipeCategory         159946 non-null  object \n",
      " 4   Keywords               155856 non-null  object \n",
      " 5   RecipeIngredientParts  160123 non-null  object \n",
      " 6   Calories               160123 non-null  float64\n",
      " 7   FatContent             160123 non-null  float64\n",
      " 8   SaturatedFatContent    160123 non-null  float64\n",
      " 9   CholesterolContent     160123 non-null  float64\n",
      " 10  SodiumContent          160123 non-null  float64\n",
      " 11  CarbohydrateContent    160123 non-null  float64\n",
      " 12  FiberContent           160123 non-null  float64\n",
      " 13  SugarContent           160123 non-null  float64\n",
      " 14  ProteinContent         160123 non-null  float64\n",
      " 15  RecipeInstructions     160123 non-null  object \n",
      "dtypes: float64(9), int64(1), object(6)\n",
      "memory usage: 20.8+ MB\n"
     ]
    }
   ],
   "source": [
    "food = food[food['Calories'] <= 1700]\n",
    "\n",
    "food.info()"
   ]
  },
  {
   "cell_type": "code",
   "execution_count": 12,
   "id": "47bb7ab3-ad45-4e03-baa8-2cf8b7a9930d",
   "metadata": {
    "tags": []
   },
   "outputs": [
    {
     "name": "stdout",
     "output_type": "stream",
     "text": [
      "<class 'pandas.core.frame.DataFrame'>\n",
      "Index: 160123 entries, 0 to 165896\n",
      "Data columns (total 16 columns):\n",
      " #   Column                 Non-Null Count   Dtype  \n",
      "---  ------                 --------------   -----  \n",
      " 0   Unnamed: 0             160123 non-null  int64  \n",
      " 1   Name                   160123 non-null  object \n",
      " 2   Images                 160122 non-null  object \n",
      " 3   RecipeCategory         159946 non-null  object \n",
      " 4   Keywords               155856 non-null  object \n",
      " 5   RecipeIngredientParts  160123 non-null  object \n",
      " 6   Calories               160123 non-null  float64\n",
      " 7   FatContent             160123 non-null  float64\n",
      " 8   SaturatedFatContent    160123 non-null  float64\n",
      " 9   CholesterolContent     160123 non-null  float64\n",
      " 10  SodiumContent          160123 non-null  float64\n",
      " 11  CarbohydrateContent    160123 non-null  float64\n",
      " 12  FiberContent           160123 non-null  float64\n",
      " 13  SugarContent           160123 non-null  float64\n",
      " 14  ProteinContent         160123 non-null  float64\n",
      " 15  RecipeInstructions     160123 non-null  object \n",
      "dtypes: float64(9), int64(1), object(6)\n",
      "memory usage: 20.8+ MB\n"
     ]
    }
   ],
   "source": [
    "food = food[food['FatContent'] < 200]\n",
    "\n",
    "food.info()"
   ]
  },
  {
   "cell_type": "code",
   "execution_count": 15,
   "id": "e2acad79-c4f7-4a4d-8a0a-5bd743ce9336",
   "metadata": {
    "tags": []
   },
   "outputs": [
    {
     "name": "stdout",
     "output_type": "stream",
     "text": [
      "<class 'pandas.core.frame.DataFrame'>\n",
      "Index: 155856 entries, 0 to 165896\n",
      "Data columns (total 16 columns):\n",
      " #   Column                 Non-Null Count   Dtype  \n",
      "---  ------                 --------------   -----  \n",
      " 0   Unnamed: 0             155856 non-null  int64  \n",
      " 1   Name                   155856 non-null  object \n",
      " 2   Images                 155855 non-null  object \n",
      " 3   RecipeCategory         155856 non-null  object \n",
      " 4   Keywords               155856 non-null  object \n",
      " 5   RecipeIngredientParts  155856 non-null  object \n",
      " 6   Calories               155856 non-null  float64\n",
      " 7   FatContent             155856 non-null  float64\n",
      " 8   SaturatedFatContent    155856 non-null  float64\n",
      " 9   CholesterolContent     155856 non-null  float64\n",
      " 10  SodiumContent          155856 non-null  float64\n",
      " 11  CarbohydrateContent    155856 non-null  float64\n",
      " 12  FiberContent           155856 non-null  float64\n",
      " 13  SugarContent           155856 non-null  float64\n",
      " 14  ProteinContent         155856 non-null  float64\n",
      " 15  RecipeInstructions     155856 non-null  object \n",
      "dtypes: float64(9), int64(1), object(6)\n",
      "memory usage: 20.2+ MB\n"
     ]
    }
   ],
   "source": [
    "food = food.dropna(subset=['Keywords'])\n",
    "\n",
    "food.info()"
   ]
  },
  {
   "cell_type": "code",
   "execution_count": 16,
   "id": "06e184d3-d17d-46fd-b3ca-d4e6a3ef7053",
   "metadata": {
    "tags": []
   },
   "outputs": [
    {
     "name": "stdout",
     "output_type": "stream",
     "text": [
      "<class 'pandas.core.frame.DataFrame'>\n",
      "Index: 155849 entries, 0 to 165896\n",
      "Data columns (total 16 columns):\n",
      " #   Column                 Non-Null Count   Dtype  \n",
      "---  ------                 --------------   -----  \n",
      " 0   Unnamed: 0             155849 non-null  int64  \n",
      " 1   Name                   155849 non-null  object \n",
      " 2   Images                 155848 non-null  object \n",
      " 3   RecipeCategory         155849 non-null  object \n",
      " 4   Keywords               155849 non-null  object \n",
      " 5   RecipeIngredientParts  155849 non-null  object \n",
      " 6   Calories               155849 non-null  float64\n",
      " 7   FatContent             155849 non-null  float64\n",
      " 8   SaturatedFatContent    155849 non-null  float64\n",
      " 9   CholesterolContent     155849 non-null  float64\n",
      " 10  SodiumContent          155849 non-null  float64\n",
      " 11  CarbohydrateContent    155849 non-null  float64\n",
      " 12  FiberContent           155849 non-null  float64\n",
      " 13  SugarContent           155849 non-null  float64\n",
      " 14  ProteinContent         155849 non-null  float64\n",
      " 15  RecipeInstructions     155849 non-null  object \n",
      "dtypes: float64(9), int64(1), object(6)\n",
      "memory usage: 20.2+ MB\n"
     ]
    }
   ],
   "source": [
    "food = food[food['CarbohydrateContent'] <= 425]\n",
    "\n",
    "food.info()"
   ]
  },
  {
   "cell_type": "code",
   "execution_count": 17,
   "id": "3fedb233-0bf8-4238-b3a3-7eaa3d726a15",
   "metadata": {
    "tags": []
   },
   "outputs": [
    {
     "name": "stdout",
     "output_type": "stream",
     "text": [
      "<class 'pandas.core.frame.DataFrame'>\n",
      "Index: 155849 entries, 0 to 165896\n",
      "Data columns (total 16 columns):\n",
      " #   Column                 Non-Null Count   Dtype  \n",
      "---  ------                 --------------   -----  \n",
      " 0   Unnamed: 0             155849 non-null  int64  \n",
      " 1   Name                   155849 non-null  object \n",
      " 2   Images                 155848 non-null  object \n",
      " 3   RecipeCategory         155849 non-null  object \n",
      " 4   Keywords               155849 non-null  object \n",
      " 5   RecipeIngredientParts  155849 non-null  object \n",
      " 6   Calories               155849 non-null  float64\n",
      " 7   FatContent             155849 non-null  float64\n",
      " 8   SaturatedFatContent    155849 non-null  float64\n",
      " 9   CholesterolContent     155849 non-null  float64\n",
      " 10  SodiumContent          155849 non-null  float64\n",
      " 11  CarbohydrateContent    155849 non-null  float64\n",
      " 12  FiberContent           155849 non-null  float64\n",
      " 13  SugarContent           155849 non-null  float64\n",
      " 14  ProteinContent         155849 non-null  float64\n",
      " 15  RecipeInstructions     155849 non-null  object \n",
      "dtypes: float64(9), int64(1), object(6)\n",
      "memory usage: 20.2+ MB\n"
     ]
    }
   ],
   "source": [
    "food = food[food['ProteinContent'] <= 425]\n",
    "\n",
    "food.info()"
   ]
  },
  {
   "cell_type": "code",
   "execution_count": 19,
   "id": "c3e7a92d-4832-47e5-bb78-d4cbb66f9c52",
   "metadata": {
    "tags": []
   },
   "outputs": [],
   "source": [
    "food.to_csv(\"foodDataSave.csv\", index=False)"
   ]
  },
  {
   "cell_type": "code",
   "execution_count": 20,
   "id": "bb17b128-d6ad-4196-a4c8-51782b9a232d",
   "metadata": {
    "tags": []
   },
   "outputs": [],
   "source": [
    "food = pd.read_csv(\"FOOD_RECIPE_DATA_TABLE.csv\")"
   ]
  },
  {
   "cell_type": "code",
   "execution_count": 21,
   "id": "d2845a3c-6efa-4bf4-a4cb-697ccc4cc2c4",
   "metadata": {
    "tags": []
   },
   "outputs": [
    {
     "name": "stdout",
     "output_type": "stream",
     "text": [
      "<class 'pandas.core.frame.DataFrame'>\n",
      "RangeIndex: 68033 entries, 0 to 68032\n",
      "Data columns (total 16 columns):\n",
      " #   Column                 Non-Null Count  Dtype  \n",
      "---  ------                 --------------  -----  \n",
      " 0   IDX                    68033 non-null  int64  \n",
      " 1   CALORIES               68033 non-null  float64\n",
      " 2   CARBOHYDRATECONTENT    68033 non-null  float64\n",
      " 3   CHOLESTEROLCONTENT     68033 non-null  float64\n",
      " 4   FATCONTENT             68033 non-null  float64\n",
      " 5   FIBERCONTENT           68033 non-null  float64\n",
      " 6   IMAGES                 68032 non-null  object \n",
      " 7   KEYWORDS               68033 non-null  object \n",
      " 8   NAME                   68033 non-null  object \n",
      " 9   PROTEINCONTENT         68033 non-null  float64\n",
      " 10  RECIPECATEGORY         68033 non-null  object \n",
      " 11  RECIPEINGREDIENTPARTS  68033 non-null  object \n",
      " 12  RECIPEINSTRUCTIONS     68033 non-null  object \n",
      " 13  SATURATEDFATCONTENT    68033 non-null  float64\n",
      " 14  SODIUMCONTENT          68033 non-null  float64\n",
      " 15  SUGARCONTENT           68033 non-null  float64\n",
      "dtypes: float64(9), int64(1), object(6)\n",
      "memory usage: 8.3+ MB\n"
     ]
    }
   ],
   "source": [
    "food.info()"
   ]
  },
  {
   "cell_type": "code",
   "execution_count": 22,
   "id": "9d584047-c948-4e7f-be50-9894eecc19d6",
   "metadata": {
    "tags": []
   },
   "outputs": [],
   "source": [
    "food.to_pickle(\"food.pkl\")"
   ]
  },
  {
   "cell_type": "code",
   "execution_count": 23,
   "id": "42d39643-b0be-46d5-9287-190e72d6c3f9",
   "metadata": {
    "tags": []
   },
   "outputs": [
    {
     "name": "stdout",
     "output_type": "stream",
     "text": [
      "<class 'pandas.core.frame.DataFrame'>\n",
      "RangeIndex: 68033 entries, 0 to 68032\n",
      "Data columns (total 16 columns):\n",
      " #   Column                 Non-Null Count  Dtype  \n",
      "---  ------                 --------------  -----  \n",
      " 0   IDX                    68033 non-null  int64  \n",
      " 1   CALORIES               68033 non-null  float64\n",
      " 2   CARBOHYDRATECONTENT    68033 non-null  float64\n",
      " 3   CHOLESTEROLCONTENT     68033 non-null  float64\n",
      " 4   FATCONTENT             68033 non-null  float64\n",
      " 5   FIBERCONTENT           68033 non-null  float64\n",
      " 6   IMAGES                 68032 non-null  object \n",
      " 7   KEYWORDS               68033 non-null  object \n",
      " 8   NAME                   68033 non-null  object \n",
      " 9   PROTEINCONTENT         68033 non-null  float64\n",
      " 10  RECIPECATEGORY         68033 non-null  object \n",
      " 11  RECIPEINGREDIENTPARTS  68033 non-null  object \n",
      " 12  RECIPEINSTRUCTIONS     68033 non-null  object \n",
      " 13  SATURATEDFATCONTENT    68033 non-null  float64\n",
      " 14  SODIUMCONTENT          68033 non-null  float64\n",
      " 15  SUGARCONTENT           68033 non-null  float64\n",
      "dtypes: float64(9), int64(1), object(6)\n",
      "memory usage: 8.3+ MB\n"
     ]
    }
   ],
   "source": [
    "food.info()"
   ]
  },
  {
   "cell_type": "code",
   "execution_count": 24,
   "id": "3b01e8fd-9db9-4782-abe1-5d5c01d4ba10",
   "metadata": {
    "tags": []
   },
   "outputs": [
    {
     "name": "stdout",
     "output_type": "stream",
     "text": [
      "<class 'pandas.core.frame.DataFrame'>\n",
      "Index: 67578 entries, 0 to 68032\n",
      "Data columns (total 16 columns):\n",
      " #   Column                 Non-Null Count  Dtype  \n",
      "---  ------                 --------------  -----  \n",
      " 0   IDX                    67578 non-null  int64  \n",
      " 1   CALORIES               67578 non-null  float64\n",
      " 2   CARBOHYDRATECONTENT    67578 non-null  float64\n",
      " 3   CHOLESTEROLCONTENT     67578 non-null  float64\n",
      " 4   FATCONTENT             67578 non-null  float64\n",
      " 5   FIBERCONTENT           67578 non-null  float64\n",
      " 6   IMAGES                 67577 non-null  object \n",
      " 7   KEYWORDS               67578 non-null  object \n",
      " 8   NAME                   67578 non-null  object \n",
      " 9   PROTEINCONTENT         67578 non-null  float64\n",
      " 10  RECIPECATEGORY         67578 non-null  object \n",
      " 11  RECIPEINGREDIENTPARTS  67578 non-null  object \n",
      " 12  RECIPEINSTRUCTIONS     67578 non-null  object \n",
      " 13  SATURATEDFATCONTENT    67578 non-null  float64\n",
      " 14  SODIUMCONTENT          67578 non-null  float64\n",
      " 15  SUGARCONTENT           67578 non-null  float64\n",
      "dtypes: float64(9), int64(1), object(6)\n",
      "memory usage: 8.8+ MB\n"
     ]
    }
   ],
   "source": [
    "food = food[food['CALORIES'] != 0]\n",
    "\n",
    "food.info()"
   ]
  },
  {
   "cell_type": "code",
   "execution_count": 26,
   "id": "dc3589cd-8a05-4103-ac22-7b4265e9a397",
   "metadata": {
    "tags": []
   },
   "outputs": [],
   "source": [
    "food.to_csv(\"foodDataSave.csv\")"
   ]
  },
  {
   "cell_type": "code",
   "execution_count": 27,
   "id": "2b6eb03d-e348-42a0-91a7-a092ce95e46a",
   "metadata": {
    "tags": []
   },
   "outputs": [
    {
     "name": "stdout",
     "output_type": "stream",
     "text": [
      "<class 'pandas.core.frame.DataFrame'>\n",
      "RangeIndex: 67578 entries, 0 to 67577\n",
      "Data columns (total 16 columns):\n",
      " #   Column                 Non-Null Count  Dtype  \n",
      "---  ------                 --------------  -----  \n",
      " 0   IDX                    67578 non-null  int64  \n",
      " 1   CALORIES               67578 non-null  float64\n",
      " 2   CARBOHYDRATECONTENT    67578 non-null  float64\n",
      " 3   CHOLESTEROLCONTENT     67578 non-null  float64\n",
      " 4   FATCONTENT             67578 non-null  float64\n",
      " 5   FIBERCONTENT           67578 non-null  float64\n",
      " 6   IMAGES                 67577 non-null  object \n",
      " 7   KEYWORDS               67578 non-null  object \n",
      " 8   NAME                   67578 non-null  object \n",
      " 9   PROTEINCONTENT         67578 non-null  float64\n",
      " 10  RECIPECATEGORY         67578 non-null  object \n",
      " 11  RECIPEINGREDIENTPARTS  67578 non-null  object \n",
      " 12  RECIPEINSTRUCTIONS     67578 non-null  object \n",
      " 13  SATURATEDFATCONTENT    67578 non-null  float64\n",
      " 14  SODIUMCONTENT          67578 non-null  float64\n",
      " 15  SUGARCONTENT           67578 non-null  float64\n",
      "dtypes: float64(9), int64(1), object(6)\n",
      "memory usage: 8.2+ MB\n"
     ]
    }
   ],
   "source": [
    "food = pd.read_csv(\"FOOD_RECIPE_DATA_TABLE_1.csv\")\n",
    "\n",
    "food.info()"
   ]
  },
  {
   "cell_type": "code",
   "execution_count": 28,
   "id": "f44569fe-3b30-4fe2-ace9-869f23865e06",
   "metadata": {
    "tags": []
   },
   "outputs": [],
   "source": [
    "food.to_pickle(\"food.pkl\")"
   ]
  },
  {
   "cell_type": "code",
   "execution_count": null,
   "id": "9d13532b-5a5a-442a-8eb0-ddf98f9f0688",
   "metadata": {},
   "outputs": [],
   "source": []
  }
 ],
 "metadata": {
  "kernelspec": {
   "display_name": "Python 3 (ipykernel)",
   "language": "python",
   "name": "python3"
  },
  "language_info": {
   "codemirror_mode": {
    "name": "ipython",
    "version": 3
   },
   "file_extension": ".py",
   "mimetype": "text/x-python",
   "name": "python",
   "nbconvert_exporter": "python",
   "pygments_lexer": "ipython3",
   "version": "3.11.5"
  }
 },
 "nbformat": 4,
 "nbformat_minor": 5
}
